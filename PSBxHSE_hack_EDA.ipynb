{
 "cells": [
  {
   "cell_type": "raw",
   "id": "94034ac5",
   "metadata": {},
   "source": [
    "# Hypothesis\n",
    "[-] отмены вероятнее там, где предоплат нет \n",
    "\n",
    "# TODO\n",
    "[-] добавить календарь и маркеры на дни (выходные, праздники)\n",
    "[-] фича на время брони (утро, день, вечер)\n",
    "[-] нужно понять что за регионы >> сможем найти температуру, а в идеале ее изменение \n",
    "[-] агрегаты по гостиницам / регионам\n",
    "[-] синусы - косинусы по дате\n",
    "[-] добавить стоимость одной ночи\n",
    "[-] добавить отклонение стоимости от медианной по группе за период (историчность)\n",
    "[-] агрегаты по категориальным с большой размерностью"
   ]
  },
  {
   "cell_type": "markdown",
   "id": "7277eb29",
   "metadata": {},
   "source": [
    "### Import modules & installations & data"
   ]
  },
  {
   "cell_type": "code",
   "execution_count": 1,
   "id": "05655948",
   "metadata": {},
   "outputs": [],
   "source": [
    "import pandas as pd, numpy as np\n",
    "from matplotlib import pyplot as plt\n",
    "import re, catboost\n",
    "import plotly.graph_objects as go\n",
    "from plotly.subplots import make_subplots\n",
    "import seaborn as sns\n",
    "from tqdm import tqdm\n",
    "\n",
    "pd.set_option('display.max_columns', 100)"
   ]
  },
  {
   "cell_type": "code",
   "execution_count": 120,
   "id": "f194ae6e",
   "metadata": {},
   "outputs": [
    {
     "data": {
      "text/html": [
       "<div>\n",
       "<style scoped>\n",
       "    .dataframe tbody tr th:only-of-type {\n",
       "        vertical-align: middle;\n",
       "    }\n",
       "\n",
       "    .dataframe tbody tr th {\n",
       "        vertical-align: top;\n",
       "    }\n",
       "\n",
       "    .dataframe thead th {\n",
       "        text-align: right;\n",
       "    }\n",
       "</style>\n",
       "<table border=\"1\" class=\"dataframe\">\n",
       "  <thead>\n",
       "    <tr style=\"text-align: right;\">\n",
       "      <th></th>\n",
       "      <th>№ брони</th>\n",
       "      <th>Номеров</th>\n",
       "      <th>Стоимость</th>\n",
       "      <th>Внесена предоплата</th>\n",
       "      <th>Способ оплаты</th>\n",
       "      <th>Дата бронирования</th>\n",
       "      <th>Дата отмены</th>\n",
       "      <th>Заезд</th>\n",
       "      <th>Ночей</th>\n",
       "      <th>Выезд</th>\n",
       "      <th>Источник</th>\n",
       "      <th>Статус брони</th>\n",
       "      <th>Категория номера</th>\n",
       "      <th>Гостей</th>\n",
       "      <th>Гостиница</th>\n",
       "    </tr>\n",
       "  </thead>\n",
       "  <tbody>\n",
       "    <tr>\n",
       "      <th>0</th>\n",
       "      <td>20230428-6634-194809261</td>\n",
       "      <td>1</td>\n",
       "      <td>25700.0</td>\n",
       "      <td>0</td>\n",
       "      <td>Внешняя система оплаты</td>\n",
       "      <td>2023-04-20 20:37:30</td>\n",
       "      <td>2023-04-20 20:39:15</td>\n",
       "      <td>2023-04-28 15:00:00</td>\n",
       "      <td>3</td>\n",
       "      <td>2023-05-01 12:00:00</td>\n",
       "      <td>Яндекс.Путешествия</td>\n",
       "      <td>Отмена</td>\n",
       "      <td>Номер «Стандарт»</td>\n",
       "      <td>2</td>\n",
       "      <td>1</td>\n",
       "    </tr>\n",
       "    <tr>\n",
       "      <th>1</th>\n",
       "      <td>20220711-6634-144460018</td>\n",
       "      <td>1</td>\n",
       "      <td>24800.0</td>\n",
       "      <td>12400</td>\n",
       "      <td>Отложенная электронная оплата: Банк Россия (ба...</td>\n",
       "      <td>2022-06-18 14:17:02</td>\n",
       "      <td>NaT</td>\n",
       "      <td>2022-07-11 15:00:00</td>\n",
       "      <td>2</td>\n",
       "      <td>2022-07-13 12:00:00</td>\n",
       "      <td>Официальный сайт</td>\n",
       "      <td>Активный</td>\n",
       "      <td>Номер «Стандарт»</td>\n",
       "      <td>2</td>\n",
       "      <td>1</td>\n",
       "    </tr>\n",
       "    <tr>\n",
       "      <th>2</th>\n",
       "      <td>20221204-16563-171020423</td>\n",
       "      <td>1</td>\n",
       "      <td>25800.0</td>\n",
       "      <td>12900</td>\n",
       "      <td>Банк. карта: Банк Россия (банк. карта)</td>\n",
       "      <td>2022-11-14 22:59:30</td>\n",
       "      <td>NaT</td>\n",
       "      <td>2022-12-04 15:00:00</td>\n",
       "      <td>2</td>\n",
       "      <td>2022-12-06 12:00:00</td>\n",
       "      <td>Официальный сайт</td>\n",
       "      <td>Активный</td>\n",
       "      <td>Номер «Студия»</td>\n",
       "      <td>2</td>\n",
       "      <td>4</td>\n",
       "    </tr>\n",
       "    <tr>\n",
       "      <th>3</th>\n",
       "      <td>20230918-7491-223512699</td>\n",
       "      <td>1</td>\n",
       "      <td>10500.0</td>\n",
       "      <td>0</td>\n",
       "      <td>Внешняя система оплаты (С предоплатой)</td>\n",
       "      <td>2023-09-08 15:55:53</td>\n",
       "      <td>NaT</td>\n",
       "      <td>2023-09-18 15:00:00</td>\n",
       "      <td>1</td>\n",
       "      <td>2023-09-19 12:00:00</td>\n",
       "      <td>Bronevik.com(new)</td>\n",
       "      <td>Активный</td>\n",
       "      <td>Номер «Стандарт»</td>\n",
       "      <td>1</td>\n",
       "      <td>3</td>\n",
       "    </tr>\n",
       "    <tr>\n",
       "      <th>4</th>\n",
       "      <td>20230529-6634-200121971</td>\n",
       "      <td>1</td>\n",
       "      <td>28690.0</td>\n",
       "      <td>28690</td>\n",
       "      <td>Система быстрых платежей: Эквайринг ComfortBoo...</td>\n",
       "      <td>2023-05-20 19:54:13</td>\n",
       "      <td>NaT</td>\n",
       "      <td>2023-05-29 15:00:00</td>\n",
       "      <td>2</td>\n",
       "      <td>2023-05-31 12:00:00</td>\n",
       "      <td>Официальный сайт</td>\n",
       "      <td>Активный</td>\n",
       "      <td>Номер «Люкс»</td>\n",
       "      <td>4</td>\n",
       "      <td>1</td>\n",
       "    </tr>\n",
       "  </tbody>\n",
       "</table>\n",
       "</div>"
      ],
      "text/plain": [
       "                    № брони  Номеров  Стоимость  Внесена предоплата  \\\n",
       "0   20230428-6634-194809261        1    25700.0                   0   \n",
       "1   20220711-6634-144460018        1    24800.0               12400   \n",
       "2  20221204-16563-171020423        1    25800.0               12900   \n",
       "3   20230918-7491-223512699        1    10500.0                   0   \n",
       "4   20230529-6634-200121971        1    28690.0               28690   \n",
       "\n",
       "                                       Способ оплаты   Дата бронирования  \\\n",
       "0                             Внешняя система оплаты 2023-04-20 20:37:30   \n",
       "1  Отложенная электронная оплата: Банк Россия (ба... 2022-06-18 14:17:02   \n",
       "2             Банк. карта: Банк Россия (банк. карта) 2022-11-14 22:59:30   \n",
       "3             Внешняя система оплаты (С предоплатой) 2023-09-08 15:55:53   \n",
       "4  Система быстрых платежей: Эквайринг ComfortBoo... 2023-05-20 19:54:13   \n",
       "\n",
       "          Дата отмены               Заезд  Ночей               Выезд  \\\n",
       "0 2023-04-20 20:39:15 2023-04-28 15:00:00      3 2023-05-01 12:00:00   \n",
       "1                 NaT 2022-07-11 15:00:00      2 2022-07-13 12:00:00   \n",
       "2                 NaT 2022-12-04 15:00:00      2 2022-12-06 12:00:00   \n",
       "3                 NaT 2023-09-18 15:00:00      1 2023-09-19 12:00:00   \n",
       "4                 NaT 2023-05-29 15:00:00      2 2023-05-31 12:00:00   \n",
       "\n",
       "             Источник Статус брони  Категория номера  Гостей  Гостиница  \n",
       "0  Яндекс.Путешествия       Отмена  Номер «Стандарт»       2          1  \n",
       "1    Официальный сайт     Активный  Номер «Стандарт»       2          1  \n",
       "2    Официальный сайт     Активный    Номер «Студия»       2          4  \n",
       "3   Bronevik.com(new)     Активный  Номер «Стандарт»       1          3  \n",
       "4    Официальный сайт     Активный      Номер «Люкс»       4          1  "
      ]
     },
     "metadata": {},
     "output_type": "display_data"
    },
    {
     "data": {
      "text/html": [
       "<div>\n",
       "<style scoped>\n",
       "    .dataframe tbody tr th:only-of-type {\n",
       "        vertical-align: middle;\n",
       "    }\n",
       "\n",
       "    .dataframe tbody tr th {\n",
       "        vertical-align: top;\n",
       "    }\n",
       "\n",
       "    .dataframe thead th {\n",
       "        text-align: right;\n",
       "    }\n",
       "</style>\n",
       "<table border=\"1\" class=\"dataframe\">\n",
       "  <thead>\n",
       "    <tr style=\"text-align: right;\">\n",
       "      <th></th>\n",
       "      <th>№ брони</th>\n",
       "      <th>Номеров</th>\n",
       "      <th>Стоимость</th>\n",
       "      <th>Внесена предоплата</th>\n",
       "      <th>Способ оплаты</th>\n",
       "      <th>Дата бронирования</th>\n",
       "      <th>Дата отмены</th>\n",
       "      <th>Заезд</th>\n",
       "      <th>Ночей</th>\n",
       "      <th>Выезд</th>\n",
       "      <th>Источник</th>\n",
       "      <th>Статус брони</th>\n",
       "      <th>Категория номера</th>\n",
       "      <th>Гостей</th>\n",
       "      <th>Гостиница</th>\n",
       "    </tr>\n",
       "  </thead>\n",
       "  <tbody>\n",
       "    <tr>\n",
       "      <th>26169</th>\n",
       "      <td>20230310-7492-177993190</td>\n",
       "      <td>1</td>\n",
       "      <td>18240.0</td>\n",
       "      <td>9120</td>\n",
       "      <td>Банк. карта: Банк Россия (банк. карта)</td>\n",
       "      <td>2023-01-07 17:45:18</td>\n",
       "      <td>NaT</td>\n",
       "      <td>2023-03-10 15:00:00</td>\n",
       "      <td>2</td>\n",
       "      <td>2023-03-12 12:00:00</td>\n",
       "      <td>Официальный сайт</td>\n",
       "      <td>Активный</td>\n",
       "      <td>Номер «Стандарт»</td>\n",
       "      <td>2</td>\n",
       "      <td>2</td>\n",
       "    </tr>\n",
       "    <tr>\n",
       "      <th>26170</th>\n",
       "      <td>20230625-16563-206126520</td>\n",
       "      <td>1</td>\n",
       "      <td>69600.0</td>\n",
       "      <td>23200</td>\n",
       "      <td>Банк. карта: Банк Россия (банк. карта)</td>\n",
       "      <td>2023-06-20 17:54:17</td>\n",
       "      <td>NaT</td>\n",
       "      <td>2023-06-25 15:00:00</td>\n",
       "      <td>3</td>\n",
       "      <td>2023-06-28 12:00:00</td>\n",
       "      <td>Официальный сайт</td>\n",
       "      <td>Активный</td>\n",
       "      <td>Номер «Студия»</td>\n",
       "      <td>3</td>\n",
       "      <td>4</td>\n",
       "    </tr>\n",
       "    <tr>\n",
       "      <th>26171</th>\n",
       "      <td>20220624-7492-137587082</td>\n",
       "      <td>1</td>\n",
       "      <td>55600.0</td>\n",
       "      <td>13900</td>\n",
       "      <td>Банк. карта: Банк Россия (банк. карта)</td>\n",
       "      <td>2022-05-08 19:24:05</td>\n",
       "      <td>NaT</td>\n",
       "      <td>2022-06-24 15:00:00</td>\n",
       "      <td>4</td>\n",
       "      <td>2022-06-28 12:00:00</td>\n",
       "      <td>Официальный сайт</td>\n",
       "      <td>Активный</td>\n",
       "      <td>Номер «Стандарт»</td>\n",
       "      <td>2</td>\n",
       "      <td>2</td>\n",
       "    </tr>\n",
       "    <tr>\n",
       "      <th>26172</th>\n",
       "      <td>20220427-7491-125459150</td>\n",
       "      <td>1</td>\n",
       "      <td>6300.0</td>\n",
       "      <td>0</td>\n",
       "      <td>Гарантия банковской картой</td>\n",
       "      <td>2022-02-19 09:55:50</td>\n",
       "      <td>2022-04-16 23:14:35</td>\n",
       "      <td>2022-04-27 15:00:00</td>\n",
       "      <td>1</td>\n",
       "      <td>2022-04-28 12:00:00</td>\n",
       "      <td>booking.com</td>\n",
       "      <td>Отмена</td>\n",
       "      <td>Номер «Стандарт»</td>\n",
       "      <td>2</td>\n",
       "      <td>3</td>\n",
       "    </tr>\n",
       "    <tr>\n",
       "      <th>26173</th>\n",
       "      <td>20220816-6634-155783156</td>\n",
       "      <td>1</td>\n",
       "      <td>24600.0</td>\n",
       "      <td>24600</td>\n",
       "      <td>Банк. карта: Банк Россия (банк. карта)</td>\n",
       "      <td>2022-08-13 22:35:43</td>\n",
       "      <td>NaT</td>\n",
       "      <td>2022-08-16 15:00:00</td>\n",
       "      <td>1</td>\n",
       "      <td>2022-08-17 12:00:00</td>\n",
       "      <td>Официальный сайт</td>\n",
       "      <td>Активный</td>\n",
       "      <td>Апартаменты с 2 спальнями с отдельным входом</td>\n",
       "      <td>3</td>\n",
       "      <td>1</td>\n",
       "    </tr>\n",
       "  </tbody>\n",
       "</table>\n",
       "</div>"
      ],
      "text/plain": [
       "                        № брони  Номеров  Стоимость  Внесена предоплата  \\\n",
       "26169   20230310-7492-177993190        1    18240.0                9120   \n",
       "26170  20230625-16563-206126520        1    69600.0               23200   \n",
       "26171   20220624-7492-137587082        1    55600.0               13900   \n",
       "26172   20220427-7491-125459150        1     6300.0                   0   \n",
       "26173   20220816-6634-155783156        1    24600.0               24600   \n",
       "\n",
       "                                Способ оплаты   Дата бронирования  \\\n",
       "26169  Банк. карта: Банк Россия (банк. карта) 2023-01-07 17:45:18   \n",
       "26170  Банк. карта: Банк Россия (банк. карта) 2023-06-20 17:54:17   \n",
       "26171  Банк. карта: Банк Россия (банк. карта) 2022-05-08 19:24:05   \n",
       "26172              Гарантия банковской картой 2022-02-19 09:55:50   \n",
       "26173  Банк. карта: Банк Россия (банк. карта) 2022-08-13 22:35:43   \n",
       "\n",
       "              Дата отмены               Заезд  Ночей               Выезд  \\\n",
       "26169                 NaT 2023-03-10 15:00:00      2 2023-03-12 12:00:00   \n",
       "26170                 NaT 2023-06-25 15:00:00      3 2023-06-28 12:00:00   \n",
       "26171                 NaT 2022-06-24 15:00:00      4 2022-06-28 12:00:00   \n",
       "26172 2022-04-16 23:14:35 2022-04-27 15:00:00      1 2022-04-28 12:00:00   \n",
       "26173                 NaT 2022-08-16 15:00:00      1 2022-08-17 12:00:00   \n",
       "\n",
       "               Источник Статус брони  \\\n",
       "26169  Официальный сайт     Активный   \n",
       "26170  Официальный сайт     Активный   \n",
       "26171  Официальный сайт     Активный   \n",
       "26172       booking.com       Отмена   \n",
       "26173  Официальный сайт     Активный   \n",
       "\n",
       "                                   Категория номера  Гостей  Гостиница  \n",
       "26169                              Номер «Стандарт»       2          2  \n",
       "26170                                Номер «Студия»       3          4  \n",
       "26171                              Номер «Стандарт»       2          2  \n",
       "26172                              Номер «Стандарт»       2          3  \n",
       "26173  Апартаменты с 2 спальнями с отдельным входом       3          1  "
      ]
     },
     "metadata": {},
     "output_type": "display_data"
    },
    {
     "data": {
      "text/plain": [
       "(26174, 15)"
      ]
     },
     "execution_count": 120,
     "metadata": {},
     "output_type": "execute_result"
    }
   ],
   "source": [
    "df = (\n",
    "    pd.read_excel(\n",
    "        'train.xlsx'\n",
    "    )\n",
    "    .drop(columns='Unnamed: 0')\n",
    "#     .set_index('№ брони')\n",
    ")\n",
    "display(df.head(5))\n",
    "display(df.tail(5))\n",
    "df.shape"
   ]
  },
  {
   "cell_type": "code",
   "execution_count": 121,
   "id": "956c05cb",
   "metadata": {},
   "outputs": [],
   "source": [
    "# добавим нормально таргет\n",
    "df['target'] = np.where(df['Дата отмены'].isna(), 0, 1)"
   ]
  },
  {
   "cell_type": "code",
   "execution_count": 122,
   "id": "c26a532f",
   "metadata": {},
   "outputs": [
    {
     "name": "stdout",
     "output_type": "stream",
     "text": [
      "<class 'pandas.core.frame.DataFrame'>\n",
      "RangeIndex: 26174 entries, 0 to 26173\n",
      "Data columns (total 16 columns):\n",
      " #   Column              Non-Null Count  Dtype         \n",
      "---  ------              --------------  -----         \n",
      " 0   № брони             26174 non-null  object        \n",
      " 1   Номеров             26174 non-null  int64         \n",
      " 2   Стоимость           26174 non-null  float64       \n",
      " 3   Внесена предоплата  26174 non-null  int64         \n",
      " 4   Способ оплаты       26174 non-null  object        \n",
      " 5   Дата бронирования   26174 non-null  datetime64[ns]\n",
      " 6   Дата отмены         5192 non-null   datetime64[ns]\n",
      " 7   Заезд               26174 non-null  datetime64[ns]\n",
      " 8   Ночей               26174 non-null  int64         \n",
      " 9   Выезд               26174 non-null  datetime64[ns]\n",
      " 10  Источник            26174 non-null  object        \n",
      " 11  Статус брони        26174 non-null  object        \n",
      " 12  Категория номера    26174 non-null  object        \n",
      " 13  Гостей              26174 non-null  int64         \n",
      " 14  Гостиница           26174 non-null  int64         \n",
      " 15  target              26174 non-null  int32         \n",
      "dtypes: datetime64[ns](4), float64(1), int32(1), int64(5), object(5)\n",
      "memory usage: 3.1+ MB\n"
     ]
    }
   ],
   "source": [
    "df.info()"
   ]
  },
  {
   "cell_type": "markdown",
   "id": "834e0b04",
   "metadata": {},
   "source": [
    "### Deep dive into data"
   ]
  },
  {
   "cell_type": "code",
   "execution_count": 123,
   "id": "05176721",
   "metadata": {},
   "outputs": [],
   "source": [
    "# точно ли уникальна бронь\n",
    "assert df['№ брони'].nunique() == df.shape[0]"
   ]
  },
  {
   "cell_type": "markdown",
   "id": "49216176",
   "metadata": {},
   "source": [
    "#### Номера"
   ]
  },
  {
   "cell_type": "code",
   "execution_count": 124,
   "id": "8f98b9cc",
   "metadata": {},
   "outputs": [
    {
     "data": {
      "text/plain": [
       "array([1, 2, 3, 4, 5, 6], dtype=int64)"
      ]
     },
     "metadata": {},
     "output_type": "display_data"
    },
    {
     "data": {
      "text/plain": [
       "Номеров\n",
       "1    24188\n",
       "2     1747\n",
       "3      172\n",
       "4       39\n",
       "5       26\n",
       "6        2\n",
       "Name: count, dtype: int64"
      ]
     },
     "execution_count": 124,
     "metadata": {},
     "output_type": "execute_result"
    }
   ],
   "source": [
    "display(df['Номеров'].unique())\n",
    "df['Номеров'].value_counts()"
   ]
  },
  {
   "cell_type": "markdown",
   "id": "08a0fc0e",
   "metadata": {},
   "source": [
    "#### Стоимость"
   ]
  },
  {
   "cell_type": "code",
   "execution_count": 125,
   "id": "8e19c681",
   "metadata": {},
   "outputs": [
    {
     "data": {
      "image/png": "[encoded data removed]",
      "text/plain": [
       "<Figure size 1000x400 with 1 Axes>"
      ]
     },
     "metadata": {},
     "output_type": "display_data"
    },
    {
     "name": "stdout",
     "output_type": "stream",
     "text": [
      "------------------\n"
     ]
    },
    {
     "data": {
      "text/plain": [
       "'min_value=1.0'"
      ]
     },
     "metadata": {},
     "output_type": "display_data"
    },
    {
     "data": {
      "text/plain": [
       "'max_value=986400.0'"
      ]
     },
     "metadata": {},
     "output_type": "display_data"
    },
    {
     "data": {
      "text/plain": [
       "'mean_value=35099.78'"
      ]
     },
     "metadata": {},
     "output_type": "display_data"
    },
    {
     "data": {
      "text/plain": [
       "'median_value=23800.0'"
      ]
     },
     "metadata": {},
     "output_type": "display_data"
    }
   ],
   "source": [
    "sns.set_style(\"whitegrid\")\n",
    "sns.set_palette(\"deep\")\n",
    "\n",
    "plt.figure(figsize=(10, 4))\n",
    "price_plot = sns.histplot(data=df, x=\"Стоимость\", kde=True, color=\"skyblue\", edgecolor=\"navy\")\n",
    "\n",
    "plt.title(\"Гистограмма распределения значений в столбце стоимость\", fontsize=14)\n",
    "plt.xlabel(\"Стоимость\", fontsize=12)\n",
    "plt.ylabel(\"Частота\", fontsize=12)\n",
    "\n",
    "plt.tick_params(axis=\"both\", which=\"major\", labelsize=10)\n",
    "plt.grid(True, linestyle=\"--\", alpha=0.7)\n",
    "sns.despine(left=True, bottom=True)\n",
    "\n",
    "plt.tight_layout()\n",
    "plt.show()\n",
    "\n",
    "min_value = df['Стоимость'].min()\n",
    "max_value = df['Стоимость'].max()\n",
    "mean_value = df['Стоимость'].mean()\n",
    "median_value = df['Стоимость'].median()\n",
    "print('------------------')\n",
    "display(f'{min_value=}')\n",
    "display(f'{max_value=}')\n",
    "display(f'{mean_value=:.2f}')\n",
    "display(f'{median_value=}')"
   ]
  },
  {
   "cell_type": "code",
   "execution_count": 126,
   "id": "65d057f9",
   "metadata": {},
   "outputs": [
    {
     "data": {
      "image/png": "[encoded data removed]",
      "text/plain": [
       "<Figure size 1000x600 with 1 Axes>"
      ]
     },
     "metadata": {},
     "output_type": "display_data"
    }
   ],
   "source": [
    "fig, ax = plt.subplots(figsize=(10, 6))\n",
    "\n",
    "sns.histplot(data=df, x=\"Стоимость\", kde=True, color=\"skyblue\", edgecolor=\"navy\")\n",
    "\n",
    "ax.set_xlim(0, 200000)\n",
    "\n",
    "plt.title(\"Гистограмма распределения значений в столбце стоимость\", fontsize=14)\n",
    "plt.tight_layout()\n",
    "plt.show()"
   ]
  },
  {
   "cell_type": "markdown",
   "id": "22a01801",
   "metadata": {},
   "source": [
    "#### Внесена предоплата"
   ]
  },
  {
   "cell_type": "code",
   "execution_count": 127,
   "id": "1eb44cba",
   "metadata": {},
   "outputs": [
    {
     "data": {
      "image/png": "[encoded data removed]",
      "text/plain": [
       "<Figure size 2000x600 with 2 Axes>"
      ]
     },
     "metadata": {},
     "output_type": "display_data"
    }
   ],
   "source": [
    "fig, (ax1, ax2) = plt.subplots(1, 2, figsize=(20, 6))\n",
    "\n",
    "# Первый график (полный)\n",
    "sns.histplot(\n",
    "    data=df,\n",
    "    x=\"Внесена предоплата\",\n",
    "    kde=True,\n",
    "    color=\"lightgreen\",\n",
    "    edgecolor=\"navy\",\n",
    "    ax=ax1,\n",
    ")\n",
    "ax1.set_title(\"Полное распределение\", fontsize=14)\n",
    "ax1.set_xlabel(\"Предоплата в рублях\", fontsize=12)\n",
    "ax1.set_ylabel(\"Частота\", fontsize=12)\n",
    "ax1.tick_params(axis=\"both\", which=\"major\", labelsize=10)\n",
    "ax1.grid(True, linestyle=\"--\", alpha=0.7)\n",
    "sns.despine(ax=ax1, left=True, bottom=True)\n",
    "\n",
    "# Второй график (с ограничением по X)\n",
    "sns.histplot(\n",
    "    data=df,\n",
    "    x=\"Внесена предоплата\",\n",
    "    kde=True,\n",
    "    color=\"lightgreen\",\n",
    "    edgecolor=\"navy\",\n",
    "    ax=ax2,\n",
    ")\n",
    "ax2.set_title(\"Распределение с ограничением\", fontsize=14)\n",
    "ax2.set_xlabel(\"Предоплата в рублях\", fontsize=12)\n",
    "ax2.set_ylabel(\"Частота\", fontsize=12)\n",
    "ax2.tick_params(axis=\"both\", which=\"major\", labelsize=10)\n",
    "ax2.grid(True, linestyle=\"--\", alpha=0.7)\n",
    "sns.despine(ax=ax2, left=True, bottom=True)\n",
    "\n",
    "x_min, x_max = 0, 50000\n",
    "ax2.set_xlim(x_min, x_max)\n",
    "\n",
    "fig.suptitle(\n",
    "    \"Гистограмма распределения значений в столбце Внесена предоплата\",\n",
    "    fontsize=16,\n",
    "    y=1.05,\n",
    ")\n",
    "\n",
    "plt.tight_layout()\n",
    "plt.show()"
   ]
  },
  {
   "cell_type": "markdown",
   "id": "5c1b215d",
   "metadata": {},
   "source": [
    "#### Способ оплаты"
   ]
  },
  {
   "cell_type": "code",
   "execution_count": 128,
   "id": "41ba4791",
   "metadata": {},
   "outputs": [
    {
     "data": {
      "text/plain": [
       "array(['Внешняя система оплаты',\n",
       "       'Отложенная электронная оплата: Банк Россия (банк. карта)',\n",
       "       'Банк. карта: Банк Россия (банк. карта)',\n",
       "       'Внешняя система оплаты (С предоплатой)',\n",
       "       'Система быстрых платежей: Эквайринг ComfortBooking (Система быстрых платежей)',\n",
       "       'Гарантия банковской картой',\n",
       "       'Внешняя система оплаты (Оплата наличными)',\n",
       "       'Банк. карта [Кешбэк. МИР]: Эквайринг TravelLine Pro (Банк. карта)',\n",
       "       'При заселении',\n",
       "       'Банк. карта: Эквайринг ComfortBooking (Банк. карта)',\n",
       "       'Банк. карта [Кешбэк. МИР]: Эквайринг ComfortBooking (Банк. карта)',\n",
       "       'Банк. карта (SberPay): Эквайринг ComfortBooking (Банк. карта) (SberPay)',\n",
       "       'Внешняя система оплаты (Банковская карта)',\n",
       "       'Банк. карта (Yandex Pay): Эквайринг ComfortBooking (Банк. карта) (Yandex Pay)'],\n",
       "      dtype=object)"
      ]
     },
     "metadata": {},
     "output_type": "display_data"
    },
    {
     "data": {
      "text/plain": [
       "Способ оплаты\n",
       "Банк. карта: Банк Россия (банк. карта)                                           13747\n",
       "Отложенная электронная оплата: Банк Россия (банк. карта)                          4128\n",
       "Система быстрых платежей: Эквайринг ComfortBooking (Система быстрых платежей)     2539\n",
       "Внешняя система оплаты (С предоплатой)                                            1875\n",
       "Банк. карта [Кешбэк. МИР]: Эквайринг TravelLine Pro (Банк. карта)                 1614\n",
       "Гарантия банковской картой                                                         876\n",
       "При заселении                                                                      704\n",
       "Внешняя система оплаты                                                             332\n",
       "Банк. карта [Кешбэк. МИР]: Эквайринг ComfortBooking (Банк. карта)                  170\n",
       "Внешняя система оплаты (Оплата наличными)                                           69\n",
       "Банк. карта: Эквайринг ComfortBooking (Банк. карта)                                 58\n",
       "Внешняя система оплаты (Банковская карта)                                           54\n",
       "Банк. карта (SberPay): Эквайринг ComfortBooking (Банк. карта) (SberPay)              7\n",
       "Банк. карта (Yandex Pay): Эквайринг ComfortBooking (Банк. карта) (Yandex Pay)        1\n",
       "Name: count, dtype: int64"
      ]
     },
     "execution_count": 128,
     "metadata": {},
     "output_type": "execute_result"
    }
   ],
   "source": [
    "display(df['Способ оплаты'].unique())\n",
    "df['Способ оплаты'].value_counts()"
   ]
  },
  {
   "cell_type": "markdown",
   "id": "6eb2c268",
   "metadata": {},
   "source": [
    "#### Дата бронирования"
   ]
  },
  {
   "cell_type": "code",
   "execution_count": 129,
   "id": "ca822d66",
   "metadata": {},
   "outputs": [
    {
     "data": {
      "text/plain": [
       "count                            26174\n",
       "mean     2022-12-21 12:59:53.618208512\n",
       "min                2022-01-01 03:42:03\n",
       "25%         2022-05-29 04:59:47.500000\n",
       "50%                2022-12-23 21:26:00\n",
       "75%      2023-07-11 20:50:03.249999872\n",
       "max                2023-12-31 20:53:36\n",
       "Name: Дата бронирования, dtype: object"
      ]
     },
     "execution_count": 129,
     "metadata": {},
     "output_type": "execute_result"
    }
   ],
   "source": [
    "# итого имеем данные за 2 года\n",
    "df['Дата бронирования'].describe()"
   ]
  },
  {
   "cell_type": "code",
   "execution_count": 130,
   "id": "eae09155",
   "metadata": {},
   "outputs": [
    {
     "data": {
      "text/html": [
       "<div>\n",
       "<style scoped>\n",
       "    .dataframe tbody tr th:only-of-type {\n",
       "        vertical-align: middle;\n",
       "    }\n",
       "\n",
       "    .dataframe tbody tr th {\n",
       "        vertical-align: top;\n",
       "    }\n",
       "\n",
       "    .dataframe thead th {\n",
       "        text-align: right;\n",
       "    }\n",
       "</style>\n",
       "<table border=\"1\" class=\"dataframe\">\n",
       "  <thead>\n",
       "    <tr style=\"text-align: right;\">\n",
       "      <th></th>\n",
       "      <th>№ брони</th>\n",
       "      <th>Номеров</th>\n",
       "      <th>Стоимость</th>\n",
       "      <th>Внесена предоплата</th>\n",
       "      <th>Способ оплаты</th>\n",
       "      <th>Дата бронирования</th>\n",
       "      <th>Дата отмены</th>\n",
       "      <th>Заезд</th>\n",
       "      <th>Ночей</th>\n",
       "      <th>Выезд</th>\n",
       "      <th>Источник</th>\n",
       "      <th>Статус брони</th>\n",
       "      <th>Категория номера</th>\n",
       "      <th>Гостей</th>\n",
       "      <th>Гостиница</th>\n",
       "      <th>target</th>\n",
       "    </tr>\n",
       "  </thead>\n",
       "  <tbody>\n",
       "    <tr>\n",
       "      <th>0</th>\n",
       "      <td>20230428-6634-194809261</td>\n",
       "      <td>1</td>\n",
       "      <td>25700.0</td>\n",
       "      <td>0</td>\n",
       "      <td>Внешняя система оплаты</td>\n",
       "      <td>2023-04-20 20:37:30</td>\n",
       "      <td>2023-04-20 20:39:15</td>\n",
       "      <td>2023-04-28 15:00:00</td>\n",
       "      <td>3</td>\n",
       "      <td>2023-05-01 12:00:00</td>\n",
       "      <td>Яндекс.Путешествия</td>\n",
       "      <td>Отмена</td>\n",
       "      <td>Номер «Стандарт»</td>\n",
       "      <td>2</td>\n",
       "      <td>1</td>\n",
       "      <td>0</td>\n",
       "    </tr>\n",
       "  </tbody>\n",
       "</table>\n",
       "</div>"
      ],
      "text/plain": [
       "                   № брони  Номеров  Стоимость  Внесена предоплата  \\\n",
       "0  20230428-6634-194809261        1    25700.0                   0   \n",
       "\n",
       "            Способ оплаты   Дата бронирования         Дата отмены  \\\n",
       "0  Внешняя система оплаты 2023-04-20 20:37:30 2023-04-20 20:39:15   \n",
       "\n",
       "                Заезд  Ночей               Выезд            Источник  \\\n",
       "0 2023-04-28 15:00:00      3 2023-05-01 12:00:00  Яндекс.Путешествия   \n",
       "\n",
       "  Статус брони  Категория номера  Гостей  Гостиница  target  \n",
       "0       Отмена  Номер «Стандарт»       2          1       0  "
      ]
     },
     "execution_count": 130,
     "metadata": {},
     "output_type": "execute_result"
    }
   ],
   "source": [
    "df.head(1)"
   ]
  },
  {
   "cell_type": "code",
   "execution_count": 131,
   "id": "c27b025b",
   "metadata": {},
   "outputs": [
    {
     "data": {
      "text/plain": [
       "booking_date_dd_mm_yy\n",
       "01-03-23    120\n",
       "15-04-22    116\n",
       "06-04-22     99\n",
       "02-04-22     99\n",
       "16-03-22     96\n",
       "07-04-22     92\n",
       "14-04-22     79\n",
       "Name: count, dtype: int64"
      ]
     },
     "metadata": {},
     "output_type": "display_data"
    }
   ],
   "source": [
    "df['booking_date_dd_mm_yy'] = pd.to_datetime(df['Дата бронирования']).dt.strftime('%d-%m-%y')\n",
    "display(df['booking_date_dd_mm_yy'].value_counts().head(7))"
   ]
  },
  {
   "cell_type": "code",
   "execution_count": 132,
   "id": "33298e30",
   "metadata": {},
   "outputs": [],
   "source": [
    "df['booking_date_day'] = df['Дата бронирования'].dt.day # пусть будет\n",
    "df['booking_date_month'] = df['Дата бронирования'].dt.month"
   ]
  },
  {
   "cell_type": "code",
   "execution_count": 133,
   "id": "3a2575a7",
   "metadata": {},
   "outputs": [],
   "source": [
    "num_to_month_mapper = {\n",
    "    1: 'Jan', 2: 'Feb', 3: 'March',\n",
    "    4: 'Apr', 5: 'May', 6: 'Jun',\n",
    "    7: 'Jul', 8: 'Aug', 9: 'Sep',\n",
    "    10: 'Oct', 11: 'Nov', 12: 'Dec'\n",
    "}\n",
    "\n",
    "df['booking_date_month_name'] = df['booking_date_month'].map(num_to_month_mapper)"
   ]
  },
  {
   "cell_type": "code",
   "execution_count": 134,
   "id": "4313a2f1",
   "metadata": {},
   "outputs": [
    {
     "data": {
      "image/png": "[encoded data removed]",
      "text/plain": [
       "<Figure size 1200x600 with 1 Axes>"
      ]
     },
     "metadata": {},
     "output_type": "display_data"
    }
   ],
   "source": [
    "plt.figure(figsize=(12, 6))\n",
    "sns.set_style(\"whitegrid\")\n",
    "\n",
    "sns.countplot(\n",
    "    x=df[\"booking_date_month_name\"], order=df[\"booking_date_month_name\"].value_counts().index,\n",
    "    color = 'lightgrey'\n",
    ")\n",
    "\n",
    "plt.title(\"В какие месяцы чаще всего бронировали\", fontsize=16)\n",
    "plt.xlabel(\"Значения\", fontsize=12)\n",
    "plt.ylabel(\"Количество\", fontsize=12)\n",
    "\n",
    "plt.xticks(rotation=45, ha=\"right\")\n",
    "\n",
    "for i, v in enumerate(df[\"booking_date_month_name\"].value_counts()):\n",
    "    plt.text(i, v, str(v), ha=\"center\", va=\"bottom\")\n",
    "\n",
    "plt.tight_layout()\n",
    "plt.show()"
   ]
  },
  {
   "cell_type": "markdown",
   "id": "0e155631",
   "metadata": {},
   "source": [
    "#### Дата отмены (а вернее факт отмены, наш таргет)"
   ]
  },
  {
   "cell_type": "code",
   "execution_count": 135,
   "id": "9b439bca",
   "metadata": {},
   "outputs": [
    {
     "data": {
      "text/plain": [
       "target\n",
       "1    20982\n",
       "0     5192\n",
       "Name: count, dtype: int64"
      ]
     },
     "execution_count": 135,
     "metadata": {},
     "output_type": "execute_result"
    }
   ],
   "source": [
    "df['target'].value_counts()"
   ]
  },
  {
   "cell_type": "markdown",
   "id": "bc671b2c",
   "metadata": {},
   "source": [
    "#### Заезд"
   ]
  },
  {
   "cell_type": "code",
   "execution_count": 136,
   "id": "fb11aa43",
   "metadata": {},
   "outputs": [
    {
     "data": {
      "text/plain": [
       "0        7 days 18:22:30\n",
       "1       23 days 00:42:58\n",
       "2       19 days 16:00:30\n",
       "3        9 days 23:04:07\n",
       "4        8 days 19:05:47\n",
       "              ...       \n",
       "26169   61 days 21:14:42\n",
       "26170    4 days 21:05:43\n",
       "26171   46 days 19:35:55\n",
       "26172   67 days 05:04:10\n",
       "26173    2 days 16:24:17\n",
       "Length: 26174, dtype: timedelta64[ns]"
      ]
     },
     "execution_count": 136,
     "metadata": {},
     "output_type": "execute_result"
    }
   ],
   "source": [
    "(df['Заезд'] - df['Дата бронирования'])"
   ]
  },
  {
   "cell_type": "code",
   "execution_count": 137,
   "id": "7998c69d",
   "metadata": {},
   "outputs": [],
   "source": [
    "df['check_in_delta_booked'] = (df['Заезд'] - df['Дата бронирования']).dt.days"
   ]
  },
  {
   "cell_type": "code",
   "execution_count": 150,
   "id": "0c95e333",
   "metadata": {},
   "outputs": [
    {
     "data": {
      "text/plain": [
       "Заезд\n",
       "8     3071\n",
       "7     2998\n",
       "9     2503\n",
       "6     2442\n",
       "5     2225\n",
       "2     2216\n",
       "10    2202\n",
       "1     1801\n",
       "3     1767\n",
       "4     1735\n",
       "11    1614\n",
       "12    1600\n",
       "Name: count, dtype: int64"
      ]
     },
     "execution_count": 150,
     "metadata": {},
     "output_type": "execute_result"
    }
   ],
   "source": [
    "df['Заезд'].dt.month.value_counts()"
   ]
  },
  {
   "cell_type": "markdown",
   "id": "997c9a1c",
   "metadata": {},
   "source": [
    "#### Кол-во ночей"
   ]
  },
  {
   "cell_type": "markdown",
   "id": "a93465ae",
   "metadata": {},
   "source": [
    "Идея, что чем больше ночей, тем тяжелее отменить (значит уже заранее прям запланировано, отпуск, доп. туры и экскурсии и тд), но чисто по геометрической вероятности выше шанс что выпадет форс-мажор на дни поездки, в общем тяжело влияние оценить"
   ]
  },
  {
   "cell_type": "code",
   "execution_count": 138,
   "id": "699203fa",
   "metadata": {},
   "outputs": [
    {
     "data": {
      "text/plain": [
       "Ночей\n",
       "1     10245\n",
       "2      8712\n",
       "3      3805\n",
       "4      1778\n",
       "5       758\n",
       "6       445\n",
       "7       230\n",
       "8        70\n",
       "10       47\n",
       "9        33\n",
       "13       13\n",
       "11       10\n",
       "14       10\n",
       "12        8\n",
       "16        2\n",
       "20        2\n",
       "31        1\n",
       "15        1\n",
       "26        1\n",
       "18        1\n",
       "17        1\n",
       "21        1\n",
       "Name: count, dtype: int64"
      ]
     },
     "execution_count": 138,
     "metadata": {},
     "output_type": "execute_result"
    }
   ],
   "source": [
    "df['Ночей'].value_counts()"
   ]
  },
  {
   "cell_type": "markdown",
   "id": "d6003c21",
   "metadata": {},
   "source": [
    "#### Выезд "
   ]
  },
  {
   "cell_type": "code",
   "execution_count": 139,
   "id": "465225a3",
   "metadata": {},
   "outputs": [],
   "source": [
    "#TODO"
   ]
  },
  {
   "cell_type": "markdown",
   "id": "efeb28ff",
   "metadata": {},
   "source": [
    "#### Источник"
   ]
  },
  {
   "cell_type": "code",
   "execution_count": 140,
   "id": "36f413e2",
   "metadata": {},
   "outputs": [
    {
     "data": {
      "text/plain": [
       "array(['Яндекс.Путешествия', 'Официальный сайт', 'Bronevik.com(new)',\n",
       "       'booking.com', 'Бронирование из экстранета', 'Zabroniryi.ru',\n",
       "       'OneTwoTrip', 'ostrovok.ru', 'Программа лояльности', 'Cuva',\n",
       "       'booking.com (Booking.com)', 'Acase.ru (ООО \"АКАДЕМ-ОНЛАЙН\")',\n",
       "       'Acase.ru (ООО \"ПРАНДИУМ\")', 'Alean.ru (13.10.2023-02.06.2025)',\n",
       "       'Alean.ru (03.02.2022-31.01.2023)', '101hotels.com',\n",
       "       'Acase.ru (ООО \"КАЛЕЙДОСКОП\")', 'Alean.ru (16.01.2023-06.09.2024)',\n",
       "       'Bronevik.com/Bro.Online', 'Тинькофф Путешествия', 'ВКонтакте',\n",
       "       'Otello', 'expedia.com (A-Hotels.com)', 'Ozon',\n",
       "       'Alean.ru (31.10.2023-22.06.2025)', 'Svoy Hotel',\n",
       "       'Alean.ru (20.01.2021-31.01.2022)'], dtype=object)"
      ]
     },
     "execution_count": 140,
     "metadata": {},
     "output_type": "execute_result"
    }
   ],
   "source": [
    "df['Источник'].unique()"
   ]
  },
  {
   "cell_type": "raw",
   "id": "5447ad16",
   "metadata": {},
   "source": [
    "#TODO: \n",
    "- понять как прикрутить это дело для определения регионов, где расположены гостиницы\n",
    "- порезать однотипные (но это после бейзлайна), сузив размерность признака"
   ]
  },
  {
   "cell_type": "markdown",
   "id": "b9697aa8",
   "metadata": {},
   "source": [
    "#### Статус брони"
   ]
  },
  {
   "cell_type": "code",
   "execution_count": 141,
   "id": "2fcaf099",
   "metadata": {},
   "outputs": [
    {
     "data": {
      "text/plain": [
       "array(['Отмена', 'Активный', 'Неподтвержденные', 'Освоб. заранее',\n",
       "       'Ожидается оплата'], dtype=object)"
      ]
     },
     "execution_count": 141,
     "metadata": {},
     "output_type": "execute_result"
    }
   ],
   "source": [
    "df['Статус брони'].unique()"
   ]
  },
  {
   "cell_type": "markdown",
   "id": "aa0bbf49",
   "metadata": {},
   "source": [
    "Вот это очень забавный столбец"
   ]
  },
  {
   "cell_type": "code",
   "execution_count": 118,
   "id": "61b0ae3a",
   "metadata": {},
   "outputs": [],
   "source": [
    "test = (\n",
    "    pd.read_excel(\"test.xlsx\").drop(columns=\"Unnamed: 0\")\n",
    ")"
   ]
  },
  {
   "cell_type": "code",
   "execution_count": 143,
   "id": "72c944a9",
   "metadata": {},
   "outputs": [
    {
     "data": {
      "text/plain": [
       "Index(['№ брони', 'Номеров', 'Стоимость', 'Внесена предоплата',\n",
       "       'Способ оплаты', 'Дата бронирования', 'Заезд', 'Ночей', 'Выезд',\n",
       "       'Источник', 'Категория номера', 'Гостей', 'Гостиница'],\n",
       "      dtype='object')"
      ]
     },
     "execution_count": 143,
     "metadata": {},
     "output_type": "execute_result"
    }
   ],
   "source": [
    "test.columns # в тесте его нет, а значит он нам и не нужен в принципе"
   ]
  },
  {
   "cell_type": "code",
   "execution_count": 144,
   "id": "9e131885",
   "metadata": {},
   "outputs": [
    {
     "data": {
      "text/plain": [
       "array(['Номер «Стандарт»', 'Номер «Студия»', 'Номер «Люкс»',\n",
       "       'Апартаменты с 2 спальнями с отдельным входом',\n",
       "       'Коттедж с 3 спальнями',\n",
       "       '1. Апартаменты с 2 спальнями с отдельным входом\\n2. Апартаменты с 2 спальнями с отдельным входом',\n",
       "       '1. Коттедж с 3 спальнями\\n2. Коттедж с 3 спальнями',\n",
       "       'Коттедж с 2 спальнями',\n",
       "       '1. Номер «Стандарт»\\n2. Номер «Стандарт»',\n",
       "       '1. Номер «Стандарт»\\n2. Номер «Стандарт»\\n3. Номер «Стандарт»',\n",
       "       'Номер «Стандарт» для маломобильных групп населения',\n",
       "       '1. Номер «Люкс»\\n2. Номер «Люкс»',\n",
       "       '1. Номер «Стандарт»\\n2. Номер «Люкс»',\n",
       "       '1. Коттедж с 2 спальнями\\n2. Коттедж с 2 спальнями\\n3. Коттедж с 2 спальнями',\n",
       "       '1. Коттедж с 2 спальнями\\n2. Коттедж с 2 спальнями',\n",
       "       '1. Номер «Стандарт»\\n2. Номер «Стандарт»\\n3. Номер «Стандарт»\\n4. Номер «Стандарт» для маломобильных групп населения',\n",
       "       '1. Коттедж с 3 спальнями\\n2. Коттедж с 3 спальнями\\n3. Коттедж с 3 спальнями',\n",
       "       '1. Коттедж с 3 спальнями\\n2. Номер «Стандарт»\\n3. Коттедж с 3 спальнями',\n",
       "       '1. Апартаменты с 2 спальнями с отдельным входом\\n2. Апартаменты с 2 спальнями с отдельным входом\\n3. Номер «Стандарт»',\n",
       "       '1. Коттедж с 2 спальнями\\n2. Коттедж с 3 спальнями',\n",
       "       '1. Номер «Стандарт»\\n2. Номер «Стандарт»\\n3. Номер «Стандарт»\\n4. Номер «Стандарт»\\n5. Номер «Стандарт»\\n6. Номер «Стандарт»',\n",
       "       '1. Апартаменты с 2 спальнями с отдельным входом\\n2. Апартаменты с 2 спальнями с отдельным входом\\n3. Апартаменты с 2 спальнями с отдельным входом',\n",
       "       '1. Номер «Люкс»\\n2. Номер «Стандарт»',\n",
       "       '1. Номер «Люкс»\\n2. Номер «Стандарт»\\n3. Номер «Стандарт»',\n",
       "       '1. Номер «Стандарт»\\n2. Номер «Стандарт»\\n3. Номер «Люкс»\\n4. Номер «Стандарт»',\n",
       "       '1. Номер «Стандарт»\\n2. Номер «Стандарт» для маломобильных групп населения',\n",
       "       '1. Коттедж с 3 спальнями\\n2. Номер «Стандарт»\\n3. Номер «Стандарт»',\n",
       "       '1. Номер «Стандарт»\\n2. Апартаменты с 2 спальнями с отдельным входом\\n3. Номер «Стандарт»'],\n",
       "      dtype=object)"
      ]
     },
     "execution_count": 144,
     "metadata": {},
     "output_type": "execute_result"
    }
   ],
   "source": [
    "df['Категория номера'].unique()"
   ]
  },
  {
   "cell_type": "markdown",
   "id": "cce6d32b",
   "metadata": {},
   "source": [
    "---"
   ]
  },
  {
   "cell_type": "code",
   "execution_count": 147,
   "id": "32d4c8d3",
   "metadata": {},
   "outputs": [
    {
     "data": {
      "text/plain": [
       "Гостей\n",
       "2     15115\n",
       "3      4680\n",
       "4      3154\n",
       "1      1612\n",
       "5       812\n",
       "6       444\n",
       "7       161\n",
       "8       118\n",
       "10       34\n",
       "9        26\n",
       "12        6\n",
       "11        4\n",
       "14        3\n",
       "13        3\n",
       "15        1\n",
       "16        1\n",
       "Name: count, dtype: int64"
      ]
     },
     "execution_count": 147,
     "metadata": {},
     "output_type": "execute_result"
    }
   ],
   "source": [
    "df['Гостей'].value_counts()"
   ]
  },
  {
   "cell_type": "markdown",
   "id": "1a83ec73",
   "metadata": {},
   "source": [
    "16 человек это конечно сильно. В целом это даже может объяснить вот строчки по типу:\n",
    "\n",
    "`1. Коттедж с 2 спальнями\\n2. Коттедж с 2 спальнями\\n3. Коттедж с 2 спальнями`"
   ]
  },
  {
   "cell_type": "code",
   "execution_count": 149,
   "id": "3e33c2b4",
   "metadata": {},
   "outputs": [
    {
     "data": {
      "text/plain": [
       "14639    1. Коттедж с 3 спальнями\\n2. Коттедж с 3 спаль...\n",
       "Name: Категория номера, dtype: object"
      ]
     },
     "execution_count": 149,
     "metadata": {},
     "output_type": "execute_result"
    }
   ],
   "source": [
    "# проверяем гипотезу\n",
    "df[df['Гостей'] == 16]['Категория номера']"
   ]
  },
  {
   "cell_type": "markdown",
   "id": "088007a9",
   "metadata": {},
   "source": [
    "Genius... Попал в десятку..."
   ]
  },
  {
   "cell_type": "markdown",
   "id": "56257491",
   "metadata": {},
   "source": [
    "--------"
   ]
  },
  {
   "cell_type": "markdown",
   "id": "43b98506",
   "metadata": {},
   "source": [
    "### More of feature generation"
   ]
  },
  {
   "cell_type": "code",
   "execution_count": 152,
   "id": "c7090102",
   "metadata": {},
   "outputs": [],
   "source": [
    "from workalendar.europe import Russia\n",
    "calendar_rus = Russia()"
   ]
  },
  {
   "cell_type": "code",
   "execution_count": 162,
   "id": "a59518b4",
   "metadata": {},
   "outputs": [
    {
     "name": "stderr",
     "output_type": "stream",
     "text": [
      "100%|██████████| 26174/26174 [00:00<00:00, 212627.93it/s]\n"
     ]
    },
    {
     "data": {
      "text/html": [
       "<div>\n",
       "<style scoped>\n",
       "    .dataframe tbody tr th:only-of-type {\n",
       "        vertical-align: middle;\n",
       "    }\n",
       "\n",
       "    .dataframe tbody tr th {\n",
       "        vertical-align: top;\n",
       "    }\n",
       "\n",
       "    .dataframe thead th {\n",
       "        text-align: right;\n",
       "    }\n",
       "</style>\n",
       "<table border=\"1\" class=\"dataframe\">\n",
       "  <thead>\n",
       "    <tr style=\"text-align: right;\">\n",
       "      <th></th>\n",
       "      <th>№ брони</th>\n",
       "      <th>Номеров</th>\n",
       "      <th>Стоимость</th>\n",
       "      <th>Внесена предоплата</th>\n",
       "      <th>Способ оплаты</th>\n",
       "      <th>Дата бронирования</th>\n",
       "      <th>Дата отмены</th>\n",
       "      <th>Заезд</th>\n",
       "      <th>Ночей</th>\n",
       "      <th>Выезд</th>\n",
       "      <th>Источник</th>\n",
       "      <th>Статус брони</th>\n",
       "      <th>Категория номера</th>\n",
       "      <th>Гостей</th>\n",
       "      <th>Гостиница</th>\n",
       "      <th>target</th>\n",
       "      <th>booking_date_dd_mm_yy</th>\n",
       "      <th>booking_date_day</th>\n",
       "      <th>booking_date_month</th>\n",
       "      <th>booking_date_month_name</th>\n",
       "      <th>check_in_delta_booked</th>\n",
       "      <th>check_in_is_holiday</th>\n",
       "    </tr>\n",
       "  </thead>\n",
       "  <tbody>\n",
       "    <tr>\n",
       "      <th>0</th>\n",
       "      <td>20230428-6634-194809261</td>\n",
       "      <td>1</td>\n",
       "      <td>25700.0</td>\n",
       "      <td>0</td>\n",
       "      <td>Внешняя система оплаты</td>\n",
       "      <td>2023-04-20 20:37:30</td>\n",
       "      <td>2023-04-20 20:39:15</td>\n",
       "      <td>2023-04-28 15:00:00</td>\n",
       "      <td>3</td>\n",
       "      <td>2023-05-01 12:00:00</td>\n",
       "      <td>Яндекс.Путешествия</td>\n",
       "      <td>Отмена</td>\n",
       "      <td>Номер «Стандарт»</td>\n",
       "      <td>2</td>\n",
       "      <td>1</td>\n",
       "      <td>0</td>\n",
       "      <td>20-04-23</td>\n",
       "      <td>20</td>\n",
       "      <td>4</td>\n",
       "      <td>Apr</td>\n",
       "      <td>7</td>\n",
       "      <td>0</td>\n",
       "    </tr>\n",
       "    <tr>\n",
       "      <th>1</th>\n",
       "      <td>20220711-6634-144460018</td>\n",
       "      <td>1</td>\n",
       "      <td>24800.0</td>\n",
       "      <td>12400</td>\n",
       "      <td>Отложенная электронная оплата: Банк Россия (ба...</td>\n",
       "      <td>2022-06-18 14:17:02</td>\n",
       "      <td>NaT</td>\n",
       "      <td>2022-07-11 15:00:00</td>\n",
       "      <td>2</td>\n",
       "      <td>2022-07-13 12:00:00</td>\n",
       "      <td>Официальный сайт</td>\n",
       "      <td>Активный</td>\n",
       "      <td>Номер «Стандарт»</td>\n",
       "      <td>2</td>\n",
       "      <td>1</td>\n",
       "      <td>1</td>\n",
       "      <td>18-06-22</td>\n",
       "      <td>18</td>\n",
       "      <td>6</td>\n",
       "      <td>Jun</td>\n",
       "      <td>23</td>\n",
       "      <td>0</td>\n",
       "    </tr>\n",
       "    <tr>\n",
       "      <th>2</th>\n",
       "      <td>20221204-16563-171020423</td>\n",
       "      <td>1</td>\n",
       "      <td>25800.0</td>\n",
       "      <td>12900</td>\n",
       "      <td>Банк. карта: Банк Россия (банк. карта)</td>\n",
       "      <td>2022-11-14 22:59:30</td>\n",
       "      <td>NaT</td>\n",
       "      <td>2022-12-04 15:00:00</td>\n",
       "      <td>2</td>\n",
       "      <td>2022-12-06 12:00:00</td>\n",
       "      <td>Официальный сайт</td>\n",
       "      <td>Активный</td>\n",
       "      <td>Номер «Студия»</td>\n",
       "      <td>2</td>\n",
       "      <td>4</td>\n",
       "      <td>1</td>\n",
       "      <td>14-11-22</td>\n",
       "      <td>14</td>\n",
       "      <td>11</td>\n",
       "      <td>Nov</td>\n",
       "      <td>19</td>\n",
       "      <td>1</td>\n",
       "    </tr>\n",
       "  </tbody>\n",
       "</table>\n",
       "</div>"
      ],
      "text/plain": [
       "                    № брони  Номеров  Стоимость  Внесена предоплата  \\\n",
       "0   20230428-6634-194809261        1    25700.0                   0   \n",
       "1   20220711-6634-144460018        1    24800.0               12400   \n",
       "2  20221204-16563-171020423        1    25800.0               12900   \n",
       "\n",
       "                                       Способ оплаты   Дата бронирования  \\\n",
       "0                             Внешняя система оплаты 2023-04-20 20:37:30   \n",
       "1  Отложенная электронная оплата: Банк Россия (ба... 2022-06-18 14:17:02   \n",
       "2             Банк. карта: Банк Россия (банк. карта) 2022-11-14 22:59:30   \n",
       "\n",
       "          Дата отмены               Заезд  Ночей               Выезд  \\\n",
       "0 2023-04-20 20:39:15 2023-04-28 15:00:00      3 2023-05-01 12:00:00   \n",
       "1                 NaT 2022-07-11 15:00:00      2 2022-07-13 12:00:00   \n",
       "2                 NaT 2022-12-04 15:00:00      2 2022-12-06 12:00:00   \n",
       "\n",
       "             Источник Статус брони  Категория номера  Гостей  Гостиница  \\\n",
       "0  Яндекс.Путешествия       Отмена  Номер «Стандарт»       2          1   \n",
       "1    Официальный сайт     Активный  Номер «Стандарт»       2          1   \n",
       "2    Официальный сайт     Активный    Номер «Студия»       2          4   \n",
       "\n",
       "   target booking_date_dd_mm_yy  booking_date_day  booking_date_month  \\\n",
       "0       0              20-04-23                20                   4   \n",
       "1       1              18-06-22                18                   6   \n",
       "2       1              14-11-22                14                  11   \n",
       "\n",
       "  booking_date_month_name  check_in_delta_booked  check_in_is_holiday  \n",
       "0                     Apr                      7                    0  \n",
       "1                     Jun                     23                    0  \n",
       "2                     Nov                     19                    1  "
      ]
     },
     "execution_count": 162,
     "metadata": {},
     "output_type": "execute_result"
    }
   ],
   "source": [
    "# флаг выходной / нет\n",
    "tqdm.pandas()\n",
    "df['check_in_is_holiday'] = df['Заезд'].progress_apply(lambda x: 0 if calendar_rus.is_working_day(x) else 1)\n",
    "df.head(3)"
   ]
  },
  {
   "cell_type": "code",
   "execution_count": 163,
   "id": "757c70a5",
   "metadata": {},
   "outputs": [],
   "source": [
    "def calendar_features(data):\n",
    "    data_ = data.copy(deep=True)\n",
    "    # праздник / рабочий день (заезд)\n",
    "    tqdm.pandas()\n",
    "    data_['check_in_is_holiday'] = (\n",
    "        data_['Заезд'].progress_apply(lambda x: 0 if calendar_rus.is_working_day(x) else 1)\n",
    "    )\n",
    "    # праздник / рабочий день (бронь)\n",
    "    data_['booking_date_is_holiday'] = (\n",
    "        data_['Дата бронирования'].progress_apply(lambda x: 0 if calendar_rus.is_working_day(x) else 1)\n",
    "    )\n",
    "    # праздник / рабочий день (бронь)\n",
    "    data_['check_out_is_holiday'] = (\n",
    "        data_['Выезд'].progress_apply(lambda x: 0 if calendar_rus.is_working_day(x) else 1)\n",
    "    )\n",
    "    # день недели (бронь + заезд + выезд)\n",
    "    data_['check_in_weekday'] = data_['Заезд'].dt.weekday\n",
    "    data_['booking_date_weekday'] = data_['Дата бронирования'].dt.weekday\n",
    "    data_['check_out_weekday'] = data_['Выезд'].dt.weekday\n",
    "    \n",
    "    print(f\"in {data.shape[1]} >>> processing... >>> out {data_.shape[1]}\")\n",
    "\n",
    "    return data_"
   ]
  },
  {
   "cell_type": "markdown",
   "id": "799fbded",
   "metadata": {},
   "source": [
    "---"
   ]
  },
  {
   "cell_type": "code",
   "execution_count": null,
   "id": "92506ab4",
   "metadata": {},
   "outputs": [],
   "source": [
    "# слабые фичи, надо как-то усилить\n",
    "'Способ оплаты'\n",
    "'Номеров'\n",
    "'Источник'\n",
    "'Категория номера'"
   ]
  },
  {
   "cell_type": "code",
   "execution_count": 167,
   "id": "1f95899c",
   "metadata": {},
   "outputs": [
    {
     "data": {
      "text/plain": [
       "array(['Внешняя система оплаты',\n",
       "       'Отложенная электронная оплата: Банк Россия (банк. карта)',\n",
       "       'Банк. карта: Банк Россия (банк. карта)',\n",
       "       'Внешняя система оплаты (С предоплатой)',\n",
       "       'Система быстрых платежей: Эквайринг ComfortBooking (Система быстрых платежей)',\n",
       "       'Гарантия банковской картой',\n",
       "       'Внешняя система оплаты (Оплата наличными)',\n",
       "       'Банк. карта [Кешбэк. МИР]: Эквайринг TravelLine Pro (Банк. карта)',\n",
       "       'При заселении',\n",
       "       'Банк. карта: Эквайринг ComfortBooking (Банк. карта)',\n",
       "       'Банк. карта [Кешбэк. МИР]: Эквайринг ComfortBooking (Банк. карта)',\n",
       "       'Банк. карта (SberPay): Эквайринг ComfortBooking (Банк. карта) (SberPay)',\n",
       "       'Внешняя система оплаты (Банковская карта)',\n",
       "       'Банк. карта (Yandex Pay): Эквайринг ComfortBooking (Банк. карта) (Yandex Pay)'],\n",
       "      dtype=object)"
      ]
     },
     "execution_count": 167,
     "metadata": {},
     "output_type": "execute_result"
    }
   ],
   "source": [
    "df['Способ оплаты'].unique()"
   ]
  },
  {
   "cell_type": "code",
   "execution_count": 168,
   "id": "54ba91df",
   "metadata": {},
   "outputs": [
    {
     "data": {
      "text/plain": [
       "array([1, 2, 3, 4, 5, 6], dtype=int64)"
      ]
     },
     "execution_count": 168,
     "metadata": {},
     "output_type": "execute_result"
    }
   ],
   "source": [
    "df['Номеров'].unique()"
   ]
  },
  {
   "cell_type": "code",
   "execution_count": 169,
   "id": "6cdd969a",
   "metadata": {},
   "outputs": [
    {
     "data": {
      "text/plain": [
       "array(['Яндекс.Путешествия', 'Официальный сайт', 'Bronevik.com(new)',\n",
       "       'booking.com', 'Бронирование из экстранета', 'Zabroniryi.ru',\n",
       "       'OneTwoTrip', 'ostrovok.ru', 'Программа лояльности', 'Cuva',\n",
       "       'booking.com (Booking.com)', 'Acase.ru (ООО \"АКАДЕМ-ОНЛАЙН\")',\n",
       "       'Acase.ru (ООО \"ПРАНДИУМ\")', 'Alean.ru (13.10.2023-02.06.2025)',\n",
       "       'Alean.ru (03.02.2022-31.01.2023)', '101hotels.com',\n",
       "       'Acase.ru (ООО \"КАЛЕЙДОСКОП\")', 'Alean.ru (16.01.2023-06.09.2024)',\n",
       "       'Bronevik.com/Bro.Online', 'Тинькофф Путешествия', 'ВКонтакте',\n",
       "       'Otello', 'expedia.com (A-Hotels.com)', 'Ozon',\n",
       "       'Alean.ru (31.10.2023-22.06.2025)', 'Svoy Hotel',\n",
       "       'Alean.ru (20.01.2021-31.01.2022)'], dtype=object)"
      ]
     },
     "execution_count": 169,
     "metadata": {},
     "output_type": "execute_result"
    }
   ],
   "source": [
    "df['Источник'].unique()"
   ]
  },
  {
   "cell_type": "code",
   "execution_count": 173,
   "id": "0cedec89",
   "metadata": {},
   "outputs": [
    {
     "data": {
      "text/plain": [
       "array(['Яндекс.Путешествия', 'Официальный сайт', 'Bronevik.com(new)',\n",
       "       'booking.com', 'Бронирование из экстранета', 'Zabroniryi.ru',\n",
       "       'OneTwoTrip', 'ostrovok.ru', 'Программа лояльности', 'Cuva',\n",
       "       'Acase.ru', 'Alean.ru', '101hotels.com', 'Bronevik.com/Bro.Online',\n",
       "       'Тинькофф', 'ВКонтакте', 'Otello', 'expedia.com', 'Ozon', 'Svoy'],\n",
       "      dtype=object)"
      ]
     },
     "metadata": {},
     "output_type": "display_data"
    }
   ],
   "source": [
    "df[\"Источник_agg\"] = df[\"Источник\"].apply(\n",
    "    lambda x: x\n",
    "    if x in [\"Официальный сайт\", \"Программа лояльности\", \"Бронирование из экстранета\"]\n",
    "    else x.split()[0]\n",
    ")\n",
    "df[\"Источник_agg\"]\n",
    "display(df['Источник_agg'].unique())"
   ]
  },
  {
   "cell_type": "code",
   "execution_count": 176,
   "id": "f0ba6c3b",
   "metadata": {},
   "outputs": [
    {
     "data": {
      "text/plain": [
       "0    [Номер «Стандарт»]\n",
       "Name: Категория номера, dtype: object"
      ]
     },
     "execution_count": 176,
     "metadata": {},
     "output_type": "execute_result"
    }
   ],
   "source": [
    "pd.Series.mode(df[\"Категория номера\"].str.split('\\n'))"
   ]
  },
  {
   "cell_type": "code",
   "execution_count": 180,
   "id": "343eba15",
   "metadata": {},
   "outputs": [
    {
     "data": {
      "text/plain": [
       "0                                    Номер «Стандарт»\n",
       "1                                    Номер «Стандарт»\n",
       "2                                      Номер «Студия»\n",
       "3                                    Номер «Стандарт»\n",
       "4                                        Номер «Люкс»\n",
       "                             ...                     \n",
       "26169                                Номер «Стандарт»\n",
       "26170                                  Номер «Студия»\n",
       "26171                                Номер «Стандарт»\n",
       "26172                                Номер «Стандарт»\n",
       "26173    Апартаменты с 2 спальнями с отдельным входом\n",
       "Name: Категория_номера_agg, Length: 26174, dtype: category\n",
       "Categories (12, object): ['1. Апартаменты с 2 спальнями с отдельным входом', '1. Коттедж с 2 спальнями', '1. Коттедж с 3 спальнями', '1. Номер «Люкс»', ..., 'Номер «Люкс»', 'Номер «Стандарт»', 'Номер «Стандарт» для маломобильных групп насе..., 'Номер «Студия»']"
      ]
     },
     "execution_count": 180,
     "metadata": {},
     "output_type": "execute_result"
    }
   ],
   "source": [
    "df[\"Категория_номера_agg\"] = (\n",
    "    df[\"Категория номера\"]\n",
    "    .apply(lambda x: pd.Series(x.split(\"\\n\")).mode()[0])\n",
    "    .astype(\"category\")\n",
    ")\n",
    "df[\"Категория_номера_agg\"]"
   ]
  },
  {
   "cell_type": "code",
   "execution_count": 182,
   "id": "db3321ca",
   "metadata": {},
   "outputs": [
    {
     "data": {
      "text/plain": [
       "['Номер «Стандарт»', 'Номер «Студия»', 'Номер «Люкс»', 'Апартаменты с 2 спальнями с отдельным входом', 'Коттедж с 3 спальнями', ..., 'Коттедж с 2 спальнями', '1. Номер «Стандарт»', 'Номер «Стандарт» для маломобильных групп насе..., '1. Номер «Люкс»', '1. Коттедж с 2 спальнями']\n",
       "Length: 12\n",
       "Categories (12, object): ['1. Апартаменты с 2 спальнями с отдельным входом', '1. Коттедж с 2 спальнями', '1. Коттедж с 3 спальнями', '1. Номер «Люкс»', ..., 'Номер «Люкс»', 'Номер «Стандарт»', 'Номер «Стандарт» для маломобильных групп насе..., 'Номер «Студия»']"
      ]
     },
     "execution_count": 182,
     "metadata": {},
     "output_type": "execute_result"
    }
   ],
   "source": [
    "df[\"Категория_номера_agg\"].unique()"
   ]
  },
  {
   "cell_type": "code",
   "execution_count": 188,
   "id": "ad27a654",
   "metadata": {},
   "outputs": [
    {
     "data": {
      "text/html": [
       "<div>\n",
       "<style scoped>\n",
       "    .dataframe tbody tr th:only-of-type {\n",
       "        vertical-align: middle;\n",
       "    }\n",
       "\n",
       "    .dataframe tbody tr th {\n",
       "        vertical-align: top;\n",
       "    }\n",
       "\n",
       "    .dataframe thead th {\n",
       "        text-align: right;\n",
       "    }\n",
       "</style>\n",
       "<table border=\"1\" class=\"dataframe\">\n",
       "  <thead>\n",
       "    <tr style=\"text-align: right;\">\n",
       "      <th></th>\n",
       "      <th>№ брони</th>\n",
       "      <th>Номеров</th>\n",
       "      <th>Стоимость</th>\n",
       "      <th>Внесена предоплата</th>\n",
       "      <th>Способ оплаты</th>\n",
       "      <th>Дата бронирования</th>\n",
       "      <th>Дата отмены</th>\n",
       "      <th>Заезд</th>\n",
       "      <th>Ночей</th>\n",
       "      <th>Выезд</th>\n",
       "      <th>Источник</th>\n",
       "      <th>Статус брони</th>\n",
       "      <th>Категория номера</th>\n",
       "      <th>Гостей</th>\n",
       "      <th>Гостиница</th>\n",
       "      <th>target</th>\n",
       "      <th>booking_date_dd_mm_yy</th>\n",
       "      <th>booking_date_day</th>\n",
       "      <th>booking_date_month</th>\n",
       "      <th>booking_date_month_name</th>\n",
       "      <th>check_in_delta_booked</th>\n",
       "      <th>check_in_is_holiday</th>\n",
       "      <th>check_in_weekday</th>\n",
       "      <th>booking_in_weekday</th>\n",
       "      <th>Источник_agg</th>\n",
       "      <th>Категория_номера_agg</th>\n",
       "      <th>Цена_за_ночь</th>\n",
       "    </tr>\n",
       "  </thead>\n",
       "  <tbody>\n",
       "    <tr>\n",
       "      <th>0</th>\n",
       "      <td>20230428-6634-194809261</td>\n",
       "      <td>1</td>\n",
       "      <td>25700.0</td>\n",
       "      <td>0</td>\n",
       "      <td>Внешняя система оплаты</td>\n",
       "      <td>2023-04-20 20:37:30</td>\n",
       "      <td>2023-04-20 20:39:15</td>\n",
       "      <td>2023-04-28 15:00:00</td>\n",
       "      <td>3</td>\n",
       "      <td>2023-05-01 12:00:00</td>\n",
       "      <td>Яндекс.Путешествия</td>\n",
       "      <td>Отмена</td>\n",
       "      <td>Номер «Стандарт»</td>\n",
       "      <td>2</td>\n",
       "      <td>1</td>\n",
       "      <td>0</td>\n",
       "      <td>20-04-23</td>\n",
       "      <td>20</td>\n",
       "      <td>4</td>\n",
       "      <td>Apr</td>\n",
       "      <td>7</td>\n",
       "      <td>0</td>\n",
       "      <td>4</td>\n",
       "      <td>3</td>\n",
       "      <td>Яндекс.Путешествия</td>\n",
       "      <td>Номер «Стандарт»</td>\n",
       "      <td>8566.666667</td>\n",
       "    </tr>\n",
       "  </tbody>\n",
       "</table>\n",
       "</div>"
      ],
      "text/plain": [
       "                   № брони  Номеров  Стоимость  Внесена предоплата  \\\n",
       "0  20230428-6634-194809261        1    25700.0                   0   \n",
       "\n",
       "            Способ оплаты   Дата бронирования         Дата отмены  \\\n",
       "0  Внешняя система оплаты 2023-04-20 20:37:30 2023-04-20 20:39:15   \n",
       "\n",
       "                Заезд  Ночей               Выезд            Источник  \\\n",
       "0 2023-04-28 15:00:00      3 2023-05-01 12:00:00  Яндекс.Путешествия   \n",
       "\n",
       "  Статус брони  Категория номера  Гостей  Гостиница  target  \\\n",
       "0       Отмена  Номер «Стандарт»       2          1       0   \n",
       "\n",
       "  booking_date_dd_mm_yy  booking_date_day  booking_date_month  \\\n",
       "0              20-04-23                20                   4   \n",
       "\n",
       "  booking_date_month_name  check_in_delta_booked  check_in_is_holiday  \\\n",
       "0                     Apr                      7                    0   \n",
       "\n",
       "   check_in_weekday  booking_in_weekday        Источник_agg  \\\n",
       "0                 4                   3  Яндекс.Путешествия   \n",
       "\n",
       "  Категория_номера_agg  Цена_за_ночь  \n",
       "0     Номер «Стандарт»   8566.666667  "
      ]
     },
     "execution_count": 188,
     "metadata": {},
     "output_type": "execute_result"
    }
   ],
   "source": [
    "df.head(1)"
   ]
  },
  {
   "cell_type": "code",
   "execution_count": 189,
   "id": "7799f588",
   "metadata": {},
   "outputs": [
    {
     "data": {
      "text/plain": [
       "0         8566.666667\n",
       "1        12400.000000\n",
       "2        12900.000000\n",
       "3        10500.000000\n",
       "4        14345.000000\n",
       "             ...     \n",
       "26169     9120.000000\n",
       "26170    23200.000000\n",
       "26171    13900.000000\n",
       "26172     6300.000000\n",
       "26173    24600.000000\n",
       "Name: Цена_за_ночь, Length: 26174, dtype: float64"
      ]
     },
     "execution_count": 189,
     "metadata": {},
     "output_type": "execute_result"
    }
   ],
   "source": [
    "df['Цена_за_ночь'] = df['Стоимость'] / df['Ночей']\n",
    "df['Цена_за_ночь']"
   ]
  },
  {
   "cell_type": "markdown",
   "id": "b082a716",
   "metadata": {},
   "source": [
    "#### Агрегаты по гостинице за месяц"
   ]
  },
  {
   "cell_type": "code",
   "execution_count": 194,
   "id": "20b8c4ef",
   "metadata": {},
   "outputs": [
    {
     "name": "stdout",
     "output_type": "stream",
     "text": [
      "The autoreload extension is already loaded. To reload it, use:\n",
      "  %reload_ext autoreload\n"
     ]
    }
   ],
   "source": [
    "%load_ext autoreload\n",
    "%autoreload 2\n",
    "from feature_generation_funcs import (\n",
    "    data_baseline_prepare, calendar_features\n",
    ")\n",
    "from workalendar.europe import Russia"
   ]
  },
  {
   "cell_type": "code",
   "execution_count": 198,
   "id": "625ab366",
   "metadata": {},
   "outputs": [
    {
     "name": "stdout",
     "output_type": "stream",
     "text": [
      "in 27 >>> processing... >>> out 33\n"
     ]
    },
    {
     "name": "stderr",
     "output_type": "stream",
     "text": [
      "100%|██████████| 26174/26174 [00:00<00:00, 224677.08it/s]\n",
      "100%|██████████| 26174/26174 [00:00<00:00, 236572.01it/s]\n",
      "100%|██████████| 26174/26174 [00:00<00:00, 248719.86it/s]"
     ]
    },
    {
     "name": "stdout",
     "output_type": "stream",
     "text": [
      "in 33 >>> processing... >>> out 37\n"
     ]
    },
    {
     "name": "stderr",
     "output_type": "stream",
     "text": [
      "\n"
     ]
    }
   ],
   "source": [
    "df1 = data_baseline_prepare(df)\n",
    "df2 = calendar_features(df1)"
   ]
  },
  {
   "cell_type": "code",
   "execution_count": 203,
   "id": "3b04dc93",
   "metadata": {},
   "outputs": [
    {
     "data": {
      "text/plain": [
       "0        17\n",
       "1        28\n",
       "2        48\n",
       "3        38\n",
       "4        22\n",
       "         ..\n",
       "26169    10\n",
       "26170    25\n",
       "26171    25\n",
       "26172    17\n",
       "26173    33\n",
       "Name: check_in_week, Length: 26174, dtype: UInt32"
      ]
     },
     "execution_count": 203,
     "metadata": {},
     "output_type": "execute_result"
    }
   ],
   "source": [
    "df2['check_in_week'] = df2['Заезд'].dt.isocalendar().week\n",
    "df2['check_in_week'] "
   ]
  },
  {
   "cell_type": "code",
   "execution_count": 228,
   "id": "b47e2ab5",
   "metadata": {},
   "outputs": [],
   "source": [
    "# в среднем цена по каждой гостнице в будние / выходные и праздники по неделям\n",
    "df2[\"avg_price_weekly\"] = df2\\\n",
    "    .groupby(by=[\"Гостиница\", 'Номеров', \"Категория номера\", \"check_in_week\", \"check_in_is_holiday\"])[\"Цена_за_ночь\"] \\\n",
    "    .transform(\"mean\")\n",
    "\n",
    "# медианная цена по каждой гостнице в выходные и праздники по неделям\n",
    "df2[\"median_price_weekly\"] = df2 \\\n",
    "    .groupby(by=[\"Гостиница\", 'Номеров', \"Категория номера\", \"check_in_week\", \"check_in_is_holiday\"])[\"Цена_за_ночь\"] \\\n",
    "    .transform(\"median\")"
   ]
  },
  {
   "cell_type": "code",
   "execution_count": 229,
   "id": "f3c0d16e",
   "metadata": {},
   "outputs": [],
   "source": [
    "# в среднем цена по каждой гостнице в конкретный день недели каждого месяца\n",
    "df2[\"avg_price_weekday_month\"] = df2 \\\n",
    "    .groupby(by=[\"Гостиница\", 'Номеров', \"Категория номера\", \"check_in_weekday\", \"booking_date_month\"])[\"Цена_за_ночь\"] \\\n",
    "    .transform(\"mean\")\n",
    "\n",
    "# медианная цена по каждой гостнице в конкретный день недели каждого месяца\n",
    "df2[\"median_price_weekday_month\"] = df2 \\\n",
    "    .groupby(by=[\"Гостиница\", 'Номеров', \"Категория номера\", \"check_in_weekday\", \"booking_date_month\"])[\"Цена_за_ночь\"] \\\n",
    "    .transform(\"median\")"
   ]
  },
  {
   "cell_type": "code",
   "execution_count": 223,
   "id": "aa9a8a92",
   "metadata": {},
   "outputs": [
    {
     "data": {
      "text/plain": [
       "0        118\n",
       "1        192\n",
       "2        338\n",
       "3        261\n",
       "4        149\n",
       "        ... \n",
       "26169     69\n",
       "26170    176\n",
       "26171    175\n",
       "26172    117\n",
       "26173    228\n",
       "Name: check_in_day, Length: 26174, dtype: int32"
      ]
     },
     "execution_count": 223,
     "metadata": {},
     "output_type": "execute_result"
    }
   ],
   "source": [
    "df2['check_in_day'] = df2['Заезд'].dt.dayofyear\n",
    "df2['check_in_day'] "
   ]
  },
  {
   "cell_type": "code",
   "execution_count": 230,
   "id": "2e34b1d3",
   "metadata": {},
   "outputs": [],
   "source": [
    "df2[\"avg_price_dayofyear\"] = df2 \\\n",
    "    .groupby(by=[\"Гостиница\", 'Номеров', \"Категория номера\", \"Гостиница\", \"check_in_day\"])[\"Цена_за_ночь\"] \\\n",
    "    .transform(\"mean\")"
   ]
  },
  {
   "cell_type": "code",
   "execution_count": 231,
   "id": "a97bd3a9",
   "metadata": {},
   "outputs": [],
   "source": [
    "df2['is_beneficial'] = np.where(df2['Цена_за_ночь'] < df2[\"avg_price_dayofyear\"], 1, 0)"
   ]
  },
  {
   "cell_type": "code",
   "execution_count": 232,
   "id": "f255690b",
   "metadata": {},
   "outputs": [
    {
     "data": {
      "text/html": [
       "<div>\n",
       "<style scoped>\n",
       "    .dataframe tbody tr th:only-of-type {\n",
       "        vertical-align: middle;\n",
       "    }\n",
       "\n",
       "    .dataframe tbody tr th {\n",
       "        vertical-align: top;\n",
       "    }\n",
       "\n",
       "    .dataframe thead th {\n",
       "        text-align: right;\n",
       "    }\n",
       "</style>\n",
       "<table border=\"1\" class=\"dataframe\">\n",
       "  <thead>\n",
       "    <tr style=\"text-align: right;\">\n",
       "      <th></th>\n",
       "      <th>№ брони</th>\n",
       "      <th>Номеров</th>\n",
       "      <th>Стоимость</th>\n",
       "      <th>Внесена предоплата</th>\n",
       "      <th>Способ оплаты</th>\n",
       "      <th>Дата бронирования</th>\n",
       "      <th>Дата отмены</th>\n",
       "      <th>Заезд</th>\n",
       "      <th>Ночей</th>\n",
       "      <th>Выезд</th>\n",
       "      <th>Источник</th>\n",
       "      <th>Статус брони</th>\n",
       "      <th>Категория номера</th>\n",
       "      <th>Гостей</th>\n",
       "      <th>Гостиница</th>\n",
       "      <th>target</th>\n",
       "      <th>booking_date_dd_mm_yy</th>\n",
       "      <th>booking_date_day</th>\n",
       "      <th>booking_date_month</th>\n",
       "      <th>booking_date_month_name</th>\n",
       "      <th>check_in_delta_booked</th>\n",
       "      <th>check_in_is_holiday</th>\n",
       "      <th>check_in_weekday</th>\n",
       "      <th>booking_in_weekday</th>\n",
       "      <th>Источник_agg</th>\n",
       "      <th>Категория_номера_agg</th>\n",
       "      <th>Цена_за_ночь</th>\n",
       "      <th>booking_date_year</th>\n",
       "      <th>booking_date_year_month</th>\n",
       "      <th>check_in_date_dd_mm_yy</th>\n",
       "      <th>check_in_date_year_month</th>\n",
       "      <th>check_out_date_dd_mm_yy</th>\n",
       "      <th>check_out_date_year_month</th>\n",
       "      <th>booking_date_is_holiday</th>\n",
       "      <th>check_out_is_holiday</th>\n",
       "      <th>booking_date_weekday</th>\n",
       "      <th>check_out_weekday</th>\n",
       "      <th>check_in_week</th>\n",
       "      <th>avg_price_weekly_holiday</th>\n",
       "      <th>avg_price_weekly_work</th>\n",
       "      <th>avg_price_weekday_month</th>\n",
       "      <th>median_price_weekday_month</th>\n",
       "      <th>avg_price_weekly</th>\n",
       "      <th>median_price_weekly</th>\n",
       "      <th>check_in_day</th>\n",
       "      <th>avg_price_dayofyear</th>\n",
       "      <th>is_beneficial</th>\n",
       "    </tr>\n",
       "  </thead>\n",
       "  <tbody>\n",
       "    <tr>\n",
       "      <th>0</th>\n",
       "      <td>20230428-6634-194809261</td>\n",
       "      <td>1</td>\n",
       "      <td>25700.0</td>\n",
       "      <td>0</td>\n",
       "      <td>Внешняя система оплаты</td>\n",
       "      <td>2023-04-20 20:37:30</td>\n",
       "      <td>2023-04-20 20:39:15</td>\n",
       "      <td>2023-04-28 15:00:00</td>\n",
       "      <td>3</td>\n",
       "      <td>2023-05-01 12:00:00</td>\n",
       "      <td>Яндекс.Путешествия</td>\n",
       "      <td>Отмена</td>\n",
       "      <td>Номер «Стандарт»</td>\n",
       "      <td>2</td>\n",
       "      <td>1</td>\n",
       "      <td>0</td>\n",
       "      <td>20-04-23</td>\n",
       "      <td>20</td>\n",
       "      <td>4</td>\n",
       "      <td>Apr</td>\n",
       "      <td>7</td>\n",
       "      <td>0</td>\n",
       "      <td>4</td>\n",
       "      <td>3</td>\n",
       "      <td>Яндекс.Путешествия</td>\n",
       "      <td>Номер «Стандарт»</td>\n",
       "      <td>8566.666667</td>\n",
       "      <td>2023</td>\n",
       "      <td>202304</td>\n",
       "      <td>28-04-23</td>\n",
       "      <td>202304</td>\n",
       "      <td>01-05-23</td>\n",
       "      <td>202305</td>\n",
       "      <td>0</td>\n",
       "      <td>1</td>\n",
       "      <td>3</td>\n",
       "      <td>0</td>\n",
       "      <td>17</td>\n",
       "      <td>NaN</td>\n",
       "      <td>15740.355191</td>\n",
       "      <td>10037.881944</td>\n",
       "      <td>10125.000000</td>\n",
       "      <td>7659.259259</td>\n",
       "      <td>8000.0</td>\n",
       "      <td>118</td>\n",
       "      <td>8590.476190</td>\n",
       "      <td>1</td>\n",
       "    </tr>\n",
       "    <tr>\n",
       "      <th>1</th>\n",
       "      <td>20220711-6634-144460018</td>\n",
       "      <td>1</td>\n",
       "      <td>24800.0</td>\n",
       "      <td>12400</td>\n",
       "      <td>Отложенная электронная оплата: Банк Россия (ба...</td>\n",
       "      <td>2022-06-18 14:17:02</td>\n",
       "      <td>NaT</td>\n",
       "      <td>2022-07-11 15:00:00</td>\n",
       "      <td>2</td>\n",
       "      <td>2022-07-13 12:00:00</td>\n",
       "      <td>Официальный сайт</td>\n",
       "      <td>Активный</td>\n",
       "      <td>Номер «Стандарт»</td>\n",
       "      <td>2</td>\n",
       "      <td>1</td>\n",
       "      <td>1</td>\n",
       "      <td>18-06-22</td>\n",
       "      <td>18</td>\n",
       "      <td>6</td>\n",
       "      <td>Jun</td>\n",
       "      <td>23</td>\n",
       "      <td>0</td>\n",
       "      <td>0</td>\n",
       "      <td>5</td>\n",
       "      <td>Официальный сайт</td>\n",
       "      <td>Номер «Стандарт»</td>\n",
       "      <td>12400.000000</td>\n",
       "      <td>2022</td>\n",
       "      <td>202206</td>\n",
       "      <td>11-07-22</td>\n",
       "      <td>202207</td>\n",
       "      <td>13-07-22</td>\n",
       "      <td>202207</td>\n",
       "      <td>1</td>\n",
       "      <td>0</td>\n",
       "      <td>5</td>\n",
       "      <td>2</td>\n",
       "      <td>28</td>\n",
       "      <td>NaN</td>\n",
       "      <td>17457.964835</td>\n",
       "      <td>9578.764881</td>\n",
       "      <td>9816.666667</td>\n",
       "      <td>9900.985714</td>\n",
       "      <td>10400.0</td>\n",
       "      <td>192</td>\n",
       "      <td>10202.058824</td>\n",
       "      <td>0</td>\n",
       "    </tr>\n",
       "    <tr>\n",
       "      <th>2</th>\n",
       "      <td>20221204-16563-171020423</td>\n",
       "      <td>1</td>\n",
       "      <td>25800.0</td>\n",
       "      <td>12900</td>\n",
       "      <td>Банк. карта: Банк Россия (банк. карта)</td>\n",
       "      <td>2022-11-14 22:59:30</td>\n",
       "      <td>NaT</td>\n",
       "      <td>2022-12-04 15:00:00</td>\n",
       "      <td>2</td>\n",
       "      <td>2022-12-06 12:00:00</td>\n",
       "      <td>Официальный сайт</td>\n",
       "      <td>Активный</td>\n",
       "      <td>Номер «Студия»</td>\n",
       "      <td>2</td>\n",
       "      <td>4</td>\n",
       "      <td>1</td>\n",
       "      <td>14-11-22</td>\n",
       "      <td>14</td>\n",
       "      <td>11</td>\n",
       "      <td>Nov</td>\n",
       "      <td>19</td>\n",
       "      <td>1</td>\n",
       "      <td>6</td>\n",
       "      <td>0</td>\n",
       "      <td>Официальный сайт</td>\n",
       "      <td>Номер «Студия»</td>\n",
       "      <td>12900.000000</td>\n",
       "      <td>2022</td>\n",
       "      <td>202211</td>\n",
       "      <td>04-12-22</td>\n",
       "      <td>202212</td>\n",
       "      <td>06-12-22</td>\n",
       "      <td>202212</td>\n",
       "      <td>0</td>\n",
       "      <td>0</td>\n",
       "      <td>0</td>\n",
       "      <td>1</td>\n",
       "      <td>48</td>\n",
       "      <td>14145.833333</td>\n",
       "      <td>NaN</td>\n",
       "      <td>16660.617647</td>\n",
       "      <td>15016.666667</td>\n",
       "      <td>14145.833333</td>\n",
       "      <td>14300.0</td>\n",
       "      <td>338</td>\n",
       "      <td>12387.500000</td>\n",
       "      <td>0</td>\n",
       "    </tr>\n",
       "    <tr>\n",
       "      <th>3</th>\n",
       "      <td>20230918-7491-223512699</td>\n",
       "      <td>1</td>\n",
       "      <td>10500.0</td>\n",
       "      <td>0</td>\n",
       "      <td>Внешняя система оплаты (С предоплатой)</td>\n",
       "      <td>2023-09-08 15:55:53</td>\n",
       "      <td>NaT</td>\n",
       "      <td>2023-09-18 15:00:00</td>\n",
       "      <td>1</td>\n",
       "      <td>2023-09-19 12:00:00</td>\n",
       "      <td>Bronevik.com(new)</td>\n",
       "      <td>Активный</td>\n",
       "      <td>Номер «Стандарт»</td>\n",
       "      <td>1</td>\n",
       "      <td>3</td>\n",
       "      <td>1</td>\n",
       "      <td>08-09-23</td>\n",
       "      <td>8</td>\n",
       "      <td>9</td>\n",
       "      <td>Sep</td>\n",
       "      <td>9</td>\n",
       "      <td>0</td>\n",
       "      <td>0</td>\n",
       "      <td>4</td>\n",
       "      <td>Bronevik.com(new)</td>\n",
       "      <td>Номер «Стандарт»</td>\n",
       "      <td>10500.000000</td>\n",
       "      <td>2023</td>\n",
       "      <td>202309</td>\n",
       "      <td>18-09-23</td>\n",
       "      <td>202309</td>\n",
       "      <td>19-09-23</td>\n",
       "      <td>202309</td>\n",
       "      <td>0</td>\n",
       "      <td>0</td>\n",
       "      <td>4</td>\n",
       "      <td>1</td>\n",
       "      <td>38</td>\n",
       "      <td>NaN</td>\n",
       "      <td>11435.006849</td>\n",
       "      <td>9223.384735</td>\n",
       "      <td>8820.000000</td>\n",
       "      <td>10435.292621</td>\n",
       "      <td>10117.5</td>\n",
       "      <td>261</td>\n",
       "      <td>9351.279762</td>\n",
       "      <td>0</td>\n",
       "    </tr>\n",
       "    <tr>\n",
       "      <th>4</th>\n",
       "      <td>20230529-6634-200121971</td>\n",
       "      <td>1</td>\n",
       "      <td>28690.0</td>\n",
       "      <td>28690</td>\n",
       "      <td>Система быстрых платежей: Эквайринг ComfortBoo...</td>\n",
       "      <td>2023-05-20 19:54:13</td>\n",
       "      <td>NaT</td>\n",
       "      <td>2023-05-29 15:00:00</td>\n",
       "      <td>2</td>\n",
       "      <td>2023-05-31 12:00:00</td>\n",
       "      <td>Официальный сайт</td>\n",
       "      <td>Активный</td>\n",
       "      <td>Номер «Люкс»</td>\n",
       "      <td>4</td>\n",
       "      <td>1</td>\n",
       "      <td>1</td>\n",
       "      <td>20-05-23</td>\n",
       "      <td>20</td>\n",
       "      <td>5</td>\n",
       "      <td>May</td>\n",
       "      <td>8</td>\n",
       "      <td>0</td>\n",
       "      <td>0</td>\n",
       "      <td>5</td>\n",
       "      <td>Официальный сайт</td>\n",
       "      <td>Номер «Люкс»</td>\n",
       "      <td>14345.000000</td>\n",
       "      <td>2023</td>\n",
       "      <td>202305</td>\n",
       "      <td>29-05-23</td>\n",
       "      <td>202305</td>\n",
       "      <td>31-05-23</td>\n",
       "      <td>202305</td>\n",
       "      <td>1</td>\n",
       "      <td>0</td>\n",
       "      <td>5</td>\n",
       "      <td>2</td>\n",
       "      <td>22</td>\n",
       "      <td>NaN</td>\n",
       "      <td>13925.659574</td>\n",
       "      <td>14052.500000</td>\n",
       "      <td>14372.500000</td>\n",
       "      <td>14148.750000</td>\n",
       "      <td>13322.5</td>\n",
       "      <td>149</td>\n",
       "      <td>12239.500000</td>\n",
       "      <td>0</td>\n",
       "    </tr>\n",
       "    <tr>\n",
       "      <th>...</th>\n",
       "      <td>...</td>\n",
       "      <td>...</td>\n",
       "      <td>...</td>\n",
       "      <td>...</td>\n",
       "      <td>...</td>\n",
       "      <td>...</td>\n",
       "      <td>...</td>\n",
       "      <td>...</td>\n",
       "      <td>...</td>\n",
       "      <td>...</td>\n",
       "      <td>...</td>\n",
       "      <td>...</td>\n",
       "      <td>...</td>\n",
       "      <td>...</td>\n",
       "      <td>...</td>\n",
       "      <td>...</td>\n",
       "      <td>...</td>\n",
       "      <td>...</td>\n",
       "      <td>...</td>\n",
       "      <td>...</td>\n",
       "      <td>...</td>\n",
       "      <td>...</td>\n",
       "      <td>...</td>\n",
       "      <td>...</td>\n",
       "      <td>...</td>\n",
       "      <td>...</td>\n",
       "      <td>...</td>\n",
       "      <td>...</td>\n",
       "      <td>...</td>\n",
       "      <td>...</td>\n",
       "      <td>...</td>\n",
       "      <td>...</td>\n",
       "      <td>...</td>\n",
       "      <td>...</td>\n",
       "      <td>...</td>\n",
       "      <td>...</td>\n",
       "      <td>...</td>\n",
       "      <td>...</td>\n",
       "      <td>...</td>\n",
       "      <td>...</td>\n",
       "      <td>...</td>\n",
       "      <td>...</td>\n",
       "      <td>...</td>\n",
       "      <td>...</td>\n",
       "      <td>...</td>\n",
       "      <td>...</td>\n",
       "      <td>...</td>\n",
       "    </tr>\n",
       "    <tr>\n",
       "      <th>26169</th>\n",
       "      <td>20230310-7492-177993190</td>\n",
       "      <td>1</td>\n",
       "      <td>18240.0</td>\n",
       "      <td>9120</td>\n",
       "      <td>Банк. карта: Банк Россия (банк. карта)</td>\n",
       "      <td>2023-01-07 17:45:18</td>\n",
       "      <td>NaT</td>\n",
       "      <td>2023-03-10 15:00:00</td>\n",
       "      <td>2</td>\n",
       "      <td>2023-03-12 12:00:00</td>\n",
       "      <td>Официальный сайт</td>\n",
       "      <td>Активный</td>\n",
       "      <td>Номер «Стандарт»</td>\n",
       "      <td>2</td>\n",
       "      <td>2</td>\n",
       "      <td>1</td>\n",
       "      <td>07-01-23</td>\n",
       "      <td>7</td>\n",
       "      <td>1</td>\n",
       "      <td>Jan</td>\n",
       "      <td>61</td>\n",
       "      <td>0</td>\n",
       "      <td>4</td>\n",
       "      <td>5</td>\n",
       "      <td>Официальный сайт</td>\n",
       "      <td>Номер «Стандарт»</td>\n",
       "      <td>9120.000000</td>\n",
       "      <td>2023</td>\n",
       "      <td>202301</td>\n",
       "      <td>10-03-23</td>\n",
       "      <td>202303</td>\n",
       "      <td>12-03-23</td>\n",
       "      <td>202303</td>\n",
       "      <td>1</td>\n",
       "      <td>1</td>\n",
       "      <td>5</td>\n",
       "      <td>6</td>\n",
       "      <td>10</td>\n",
       "      <td>NaN</td>\n",
       "      <td>10832.062147</td>\n",
       "      <td>9774.458333</td>\n",
       "      <td>9168.333333</td>\n",
       "      <td>8890.982906</td>\n",
       "      <td>8280.0</td>\n",
       "      <td>69</td>\n",
       "      <td>7991.666667</td>\n",
       "      <td>0</td>\n",
       "    </tr>\n",
       "    <tr>\n",
       "      <th>26170</th>\n",
       "      <td>20230625-16563-206126520</td>\n",
       "      <td>1</td>\n",
       "      <td>69600.0</td>\n",
       "      <td>23200</td>\n",
       "      <td>Банк. карта: Банк Россия (банк. карта)</td>\n",
       "      <td>2023-06-20 17:54:17</td>\n",
       "      <td>NaT</td>\n",
       "      <td>2023-06-25 15:00:00</td>\n",
       "      <td>3</td>\n",
       "      <td>2023-06-28 12:00:00</td>\n",
       "      <td>Официальный сайт</td>\n",
       "      <td>Активный</td>\n",
       "      <td>Номер «Студия»</td>\n",
       "      <td>3</td>\n",
       "      <td>4</td>\n",
       "      <td>1</td>\n",
       "      <td>20-06-23</td>\n",
       "      <td>20</td>\n",
       "      <td>6</td>\n",
       "      <td>Jun</td>\n",
       "      <td>4</td>\n",
       "      <td>1</td>\n",
       "      <td>6</td>\n",
       "      <td>1</td>\n",
       "      <td>Официальный сайт</td>\n",
       "      <td>Номер «Студия»</td>\n",
       "      <td>23200.000000</td>\n",
       "      <td>2023</td>\n",
       "      <td>202306</td>\n",
       "      <td>25-06-23</td>\n",
       "      <td>202306</td>\n",
       "      <td>28-06-23</td>\n",
       "      <td>202306</td>\n",
       "      <td>0</td>\n",
       "      <td>0</td>\n",
       "      <td>1</td>\n",
       "      <td>2</td>\n",
       "      <td>25</td>\n",
       "      <td>26418.750000</td>\n",
       "      <td>NaN</td>\n",
       "      <td>24984.791667</td>\n",
       "      <td>25700.000000</td>\n",
       "      <td>24326.666667</td>\n",
       "      <td>23200.0</td>\n",
       "      <td>176</td>\n",
       "      <td>22880.000000</td>\n",
       "      <td>0</td>\n",
       "    </tr>\n",
       "    <tr>\n",
       "      <th>26171</th>\n",
       "      <td>20220624-7492-137587082</td>\n",
       "      <td>1</td>\n",
       "      <td>55600.0</td>\n",
       "      <td>13900</td>\n",
       "      <td>Банк. карта: Банк Россия (банк. карта)</td>\n",
       "      <td>2022-05-08 19:24:05</td>\n",
       "      <td>NaT</td>\n",
       "      <td>2022-06-24 15:00:00</td>\n",
       "      <td>4</td>\n",
       "      <td>2022-06-28 12:00:00</td>\n",
       "      <td>Официальный сайт</td>\n",
       "      <td>Активный</td>\n",
       "      <td>Номер «Стандарт»</td>\n",
       "      <td>2</td>\n",
       "      <td>2</td>\n",
       "      <td>1</td>\n",
       "      <td>08-05-22</td>\n",
       "      <td>8</td>\n",
       "      <td>5</td>\n",
       "      <td>May</td>\n",
       "      <td>46</td>\n",
       "      <td>0</td>\n",
       "      <td>4</td>\n",
       "      <td>6</td>\n",
       "      <td>Официальный сайт</td>\n",
       "      <td>Номер «Стандарт»</td>\n",
       "      <td>13900.000000</td>\n",
       "      <td>2022</td>\n",
       "      <td>202205</td>\n",
       "      <td>24-06-22</td>\n",
       "      <td>202206</td>\n",
       "      <td>28-06-22</td>\n",
       "      <td>202206</td>\n",
       "      <td>1</td>\n",
       "      <td>0</td>\n",
       "      <td>6</td>\n",
       "      <td>1</td>\n",
       "      <td>25</td>\n",
       "      <td>NaN</td>\n",
       "      <td>16478.012821</td>\n",
       "      <td>13304.575163</td>\n",
       "      <td>13900.000000</td>\n",
       "      <td>12642.718254</td>\n",
       "      <td>13900.0</td>\n",
       "      <td>175</td>\n",
       "      <td>12154.777778</td>\n",
       "      <td>0</td>\n",
       "    </tr>\n",
       "    <tr>\n",
       "      <th>26172</th>\n",
       "      <td>20220427-7491-125459150</td>\n",
       "      <td>1</td>\n",
       "      <td>6300.0</td>\n",
       "      <td>0</td>\n",
       "      <td>Гарантия банковской картой</td>\n",
       "      <td>2022-02-19 09:55:50</td>\n",
       "      <td>2022-04-16 23:14:35</td>\n",
       "      <td>2022-04-27 15:00:00</td>\n",
       "      <td>1</td>\n",
       "      <td>2022-04-28 12:00:00</td>\n",
       "      <td>booking.com</td>\n",
       "      <td>Отмена</td>\n",
       "      <td>Номер «Стандарт»</td>\n",
       "      <td>2</td>\n",
       "      <td>3</td>\n",
       "      <td>0</td>\n",
       "      <td>19-02-22</td>\n",
       "      <td>19</td>\n",
       "      <td>2</td>\n",
       "      <td>Feb</td>\n",
       "      <td>67</td>\n",
       "      <td>0</td>\n",
       "      <td>2</td>\n",
       "      <td>5</td>\n",
       "      <td>booking.com</td>\n",
       "      <td>Номер «Стандарт»</td>\n",
       "      <td>6300.000000</td>\n",
       "      <td>2022</td>\n",
       "      <td>202202</td>\n",
       "      <td>27-04-22</td>\n",
       "      <td>202204</td>\n",
       "      <td>28-04-22</td>\n",
       "      <td>202204</td>\n",
       "      <td>1</td>\n",
       "      <td>0</td>\n",
       "      <td>5</td>\n",
       "      <td>3</td>\n",
       "      <td>17</td>\n",
       "      <td>NaN</td>\n",
       "      <td>10543.071667</td>\n",
       "      <td>7909.724280</td>\n",
       "      <td>7601.666667</td>\n",
       "      <td>9360.385870</td>\n",
       "      <td>9400.0</td>\n",
       "      <td>117</td>\n",
       "      <td>9004.509804</td>\n",
       "      <td>1</td>\n",
       "    </tr>\n",
       "    <tr>\n",
       "      <th>26173</th>\n",
       "      <td>20220816-6634-155783156</td>\n",
       "      <td>1</td>\n",
       "      <td>24600.0</td>\n",
       "      <td>24600</td>\n",
       "      <td>Банк. карта: Банк Россия (банк. карта)</td>\n",
       "      <td>2022-08-13 22:35:43</td>\n",
       "      <td>NaT</td>\n",
       "      <td>2022-08-16 15:00:00</td>\n",
       "      <td>1</td>\n",
       "      <td>2022-08-17 12:00:00</td>\n",
       "      <td>Официальный сайт</td>\n",
       "      <td>Активный</td>\n",
       "      <td>Апартаменты с 2 спальнями с отдельным входом</td>\n",
       "      <td>3</td>\n",
       "      <td>1</td>\n",
       "      <td>1</td>\n",
       "      <td>13-08-22</td>\n",
       "      <td>13</td>\n",
       "      <td>8</td>\n",
       "      <td>Aug</td>\n",
       "      <td>2</td>\n",
       "      <td>0</td>\n",
       "      <td>1</td>\n",
       "      <td>5</td>\n",
       "      <td>Официальный сайт</td>\n",
       "      <td>Апартаменты с 2 спальнями с отдельным входом</td>\n",
       "      <td>24600.000000</td>\n",
       "      <td>2022</td>\n",
       "      <td>202208</td>\n",
       "      <td>16-08-22</td>\n",
       "      <td>202208</td>\n",
       "      <td>17-08-22</td>\n",
       "      <td>202208</td>\n",
       "      <td>1</td>\n",
       "      <td>0</td>\n",
       "      <td>5</td>\n",
       "      <td>2</td>\n",
       "      <td>33</td>\n",
       "      <td>NaN</td>\n",
       "      <td>17582.057432</td>\n",
       "      <td>21064.230769</td>\n",
       "      <td>23000.000000</td>\n",
       "      <td>21835.198413</td>\n",
       "      <td>21600.0</td>\n",
       "      <td>228</td>\n",
       "      <td>21625.714286</td>\n",
       "      <td>0</td>\n",
       "    </tr>\n",
       "  </tbody>\n",
       "</table>\n",
       "<p>26174 rows × 47 columns</p>\n",
       "</div>"
      ],
      "text/plain": [
       "                        № брони  Номеров  Стоимость  Внесена предоплата  \\\n",
       "0       20230428-6634-194809261        1    25700.0                   0   \n",
       "1       20220711-6634-144460018        1    24800.0               12400   \n",
       "2      20221204-16563-171020423        1    25800.0               12900   \n",
       "3       20230918-7491-223512699        1    10500.0                   0   \n",
       "4       20230529-6634-200121971        1    28690.0               28690   \n",
       "...                         ...      ...        ...                 ...   \n",
       "26169   20230310-7492-177993190        1    18240.0                9120   \n",
       "26170  20230625-16563-206126520        1    69600.0               23200   \n",
       "26171   20220624-7492-137587082        1    55600.0               13900   \n",
       "26172   20220427-7491-125459150        1     6300.0                   0   \n",
       "26173   20220816-6634-155783156        1    24600.0               24600   \n",
       "\n",
       "                                           Способ оплаты   Дата бронирования  \\\n",
       "0                                 Внешняя система оплаты 2023-04-20 20:37:30   \n",
       "1      Отложенная электронная оплата: Банк Россия (ба... 2022-06-18 14:17:02   \n",
       "2                 Банк. карта: Банк Россия (банк. карта) 2022-11-14 22:59:30   \n",
       "3                 Внешняя система оплаты (С предоплатой) 2023-09-08 15:55:53   \n",
       "4      Система быстрых платежей: Эквайринг ComfortBoo... 2023-05-20 19:54:13   \n",
       "...                                                  ...                 ...   \n",
       "26169             Банк. карта: Банк Россия (банк. карта) 2023-01-07 17:45:18   \n",
       "26170             Банк. карта: Банк Россия (банк. карта) 2023-06-20 17:54:17   \n",
       "26171             Банк. карта: Банк Россия (банк. карта) 2022-05-08 19:24:05   \n",
       "26172                         Гарантия банковской картой 2022-02-19 09:55:50   \n",
       "26173             Банк. карта: Банк Россия (банк. карта) 2022-08-13 22:35:43   \n",
       "\n",
       "              Дата отмены               Заезд  Ночей               Выезд  \\\n",
       "0     2023-04-20 20:39:15 2023-04-28 15:00:00      3 2023-05-01 12:00:00   \n",
       "1                     NaT 2022-07-11 15:00:00      2 2022-07-13 12:00:00   \n",
       "2                     NaT 2022-12-04 15:00:00      2 2022-12-06 12:00:00   \n",
       "3                     NaT 2023-09-18 15:00:00      1 2023-09-19 12:00:00   \n",
       "4                     NaT 2023-05-29 15:00:00      2 2023-05-31 12:00:00   \n",
       "...                   ...                 ...    ...                 ...   \n",
       "26169                 NaT 2023-03-10 15:00:00      2 2023-03-12 12:00:00   \n",
       "26170                 NaT 2023-06-25 15:00:00      3 2023-06-28 12:00:00   \n",
       "26171                 NaT 2022-06-24 15:00:00      4 2022-06-28 12:00:00   \n",
       "26172 2022-04-16 23:14:35 2022-04-27 15:00:00      1 2022-04-28 12:00:00   \n",
       "26173                 NaT 2022-08-16 15:00:00      1 2022-08-17 12:00:00   \n",
       "\n",
       "                 Источник Статус брони  \\\n",
       "0      Яндекс.Путешествия       Отмена   \n",
       "1        Официальный сайт     Активный   \n",
       "2        Официальный сайт     Активный   \n",
       "3       Bronevik.com(new)     Активный   \n",
       "4        Официальный сайт     Активный   \n",
       "...                   ...          ...   \n",
       "26169    Официальный сайт     Активный   \n",
       "26170    Официальный сайт     Активный   \n",
       "26171    Официальный сайт     Активный   \n",
       "26172         booking.com       Отмена   \n",
       "26173    Официальный сайт     Активный   \n",
       "\n",
       "                                   Категория номера  Гостей  Гостиница  \\\n",
       "0                                  Номер «Стандарт»       2          1   \n",
       "1                                  Номер «Стандарт»       2          1   \n",
       "2                                    Номер «Студия»       2          4   \n",
       "3                                  Номер «Стандарт»       1          3   \n",
       "4                                      Номер «Люкс»       4          1   \n",
       "...                                             ...     ...        ...   \n",
       "26169                              Номер «Стандарт»       2          2   \n",
       "26170                                Номер «Студия»       3          4   \n",
       "26171                              Номер «Стандарт»       2          2   \n",
       "26172                              Номер «Стандарт»       2          3   \n",
       "26173  Апартаменты с 2 спальнями с отдельным входом       3          1   \n",
       "\n",
       "       target booking_date_dd_mm_yy  booking_date_day  booking_date_month  \\\n",
       "0           0              20-04-23                20                   4   \n",
       "1           1              18-06-22                18                   6   \n",
       "2           1              14-11-22                14                  11   \n",
       "3           1              08-09-23                 8                   9   \n",
       "4           1              20-05-23                20                   5   \n",
       "...       ...                   ...               ...                 ...   \n",
       "26169       1              07-01-23                 7                   1   \n",
       "26170       1              20-06-23                20                   6   \n",
       "26171       1              08-05-22                 8                   5   \n",
       "26172       0              19-02-22                19                   2   \n",
       "26173       1              13-08-22                13                   8   \n",
       "\n",
       "      booking_date_month_name  check_in_delta_booked  check_in_is_holiday  \\\n",
       "0                         Apr                      7                    0   \n",
       "1                         Jun                     23                    0   \n",
       "2                         Nov                     19                    1   \n",
       "3                         Sep                      9                    0   \n",
       "4                         May                      8                    0   \n",
       "...                       ...                    ...                  ...   \n",
       "26169                     Jan                     61                    0   \n",
       "26170                     Jun                      4                    1   \n",
       "26171                     May                     46                    0   \n",
       "26172                     Feb                     67                    0   \n",
       "26173                     Aug                      2                    0   \n",
       "\n",
       "       check_in_weekday  booking_in_weekday        Источник_agg  \\\n",
       "0                     4                   3  Яндекс.Путешествия   \n",
       "1                     0                   5    Официальный сайт   \n",
       "2                     6                   0    Официальный сайт   \n",
       "3                     0                   4   Bronevik.com(new)   \n",
       "4                     0                   5    Официальный сайт   \n",
       "...                 ...                 ...                 ...   \n",
       "26169                 4                   5    Официальный сайт   \n",
       "26170                 6                   1    Официальный сайт   \n",
       "26171                 4                   6    Официальный сайт   \n",
       "26172                 2                   5         booking.com   \n",
       "26173                 1                   5    Официальный сайт   \n",
       "\n",
       "                               Категория_номера_agg  Цена_за_ночь  \\\n",
       "0                                  Номер «Стандарт»   8566.666667   \n",
       "1                                  Номер «Стандарт»  12400.000000   \n",
       "2                                    Номер «Студия»  12900.000000   \n",
       "3                                  Номер «Стандарт»  10500.000000   \n",
       "4                                      Номер «Люкс»  14345.000000   \n",
       "...                                             ...           ...   \n",
       "26169                              Номер «Стандарт»   9120.000000   \n",
       "26170                                Номер «Студия»  23200.000000   \n",
       "26171                              Номер «Стандарт»  13900.000000   \n",
       "26172                              Номер «Стандарт»   6300.000000   \n",
       "26173  Апартаменты с 2 спальнями с отдельным входом  24600.000000   \n",
       "\n",
       "       booking_date_year  booking_date_year_month check_in_date_dd_mm_yy  \\\n",
       "0                   2023                   202304               28-04-23   \n",
       "1                   2022                   202206               11-07-22   \n",
       "2                   2022                   202211               04-12-22   \n",
       "3                   2023                   202309               18-09-23   \n",
       "4                   2023                   202305               29-05-23   \n",
       "...                  ...                      ...                    ...   \n",
       "26169               2023                   202301               10-03-23   \n",
       "26170               2023                   202306               25-06-23   \n",
       "26171               2022                   202205               24-06-22   \n",
       "26172               2022                   202202               27-04-22   \n",
       "26173               2022                   202208               16-08-22   \n",
       "\n",
       "       check_in_date_year_month check_out_date_dd_mm_yy  \\\n",
       "0                        202304                01-05-23   \n",
       "1                        202207                13-07-22   \n",
       "2                        202212                06-12-22   \n",
       "3                        202309                19-09-23   \n",
       "4                        202305                31-05-23   \n",
       "...                         ...                     ...   \n",
       "26169                    202303                12-03-23   \n",
       "26170                    202306                28-06-23   \n",
       "26171                    202206                28-06-22   \n",
       "26172                    202204                28-04-22   \n",
       "26173                    202208                17-08-22   \n",
       "\n",
       "       check_out_date_year_month  booking_date_is_holiday  \\\n",
       "0                         202305                        0   \n",
       "1                         202207                        1   \n",
       "2                         202212                        0   \n",
       "3                         202309                        0   \n",
       "4                         202305                        1   \n",
       "...                          ...                      ...   \n",
       "26169                     202303                        1   \n",
       "26170                     202306                        0   \n",
       "26171                     202206                        1   \n",
       "26172                     202204                        1   \n",
       "26173                     202208                        1   \n",
       "\n",
       "       check_out_is_holiday  booking_date_weekday  check_out_weekday  \\\n",
       "0                         1                     3                  0   \n",
       "1                         0                     5                  2   \n",
       "2                         0                     0                  1   \n",
       "3                         0                     4                  1   \n",
       "4                         0                     5                  2   \n",
       "...                     ...                   ...                ...   \n",
       "26169                     1                     5                  6   \n",
       "26170                     0                     1                  2   \n",
       "26171                     0                     6                  1   \n",
       "26172                     0                     5                  3   \n",
       "26173                     0                     5                  2   \n",
       "\n",
       "       check_in_week  avg_price_weekly_holiday  avg_price_weekly_work  \\\n",
       "0                 17                       NaN           15740.355191   \n",
       "1                 28                       NaN           17457.964835   \n",
       "2                 48              14145.833333                    NaN   \n",
       "3                 38                       NaN           11435.006849   \n",
       "4                 22                       NaN           13925.659574   \n",
       "...              ...                       ...                    ...   \n",
       "26169             10                       NaN           10832.062147   \n",
       "26170             25              26418.750000                    NaN   \n",
       "26171             25                       NaN           16478.012821   \n",
       "26172             17                       NaN           10543.071667   \n",
       "26173             33                       NaN           17582.057432   \n",
       "\n",
       "       avg_price_weekday_month  median_price_weekday_month  avg_price_weekly  \\\n",
       "0                 10037.881944                10125.000000       7659.259259   \n",
       "1                  9578.764881                 9816.666667       9900.985714   \n",
       "2                 16660.617647                15016.666667      14145.833333   \n",
       "3                  9223.384735                 8820.000000      10435.292621   \n",
       "4                 14052.500000                14372.500000      14148.750000   \n",
       "...                        ...                         ...               ...   \n",
       "26169              9774.458333                 9168.333333       8890.982906   \n",
       "26170             24984.791667                25700.000000      24326.666667   \n",
       "26171             13304.575163                13900.000000      12642.718254   \n",
       "26172              7909.724280                 7601.666667       9360.385870   \n",
       "26173             21064.230769                23000.000000      21835.198413   \n",
       "\n",
       "       median_price_weekly  check_in_day  avg_price_dayofyear  is_beneficial  \n",
       "0                   8000.0           118          8590.476190              1  \n",
       "1                  10400.0           192         10202.058824              0  \n",
       "2                  14300.0           338         12387.500000              0  \n",
       "3                  10117.5           261          9351.279762              0  \n",
       "4                  13322.5           149         12239.500000              0  \n",
       "...                    ...           ...                  ...            ...  \n",
       "26169               8280.0            69          7991.666667              0  \n",
       "26170              23200.0           176         22880.000000              0  \n",
       "26171              13900.0           175         12154.777778              0  \n",
       "26172               9400.0           117          9004.509804              1  \n",
       "26173              21600.0           228         21625.714286              0  \n",
       "\n",
       "[26174 rows x 47 columns]"
      ]
     },
     "execution_count": 232,
     "metadata": {},
     "output_type": "execute_result"
    }
   ],
   "source": [
    "df2"
   ]
  },
  {
   "cell_type": "code",
   "execution_count": 234,
   "id": "113d8c4d",
   "metadata": {},
   "outputs": [
    {
     "data": {
      "text/plain": [
       "array(['Отмена', 'Активный', 'Неподтвержденные', 'Освоб. заранее',\n",
       "       'Ожидается оплата'], dtype=object)"
      ]
     },
     "execution_count": 234,
     "metadata": {},
     "output_type": "execute_result"
    }
   ],
   "source": [
    "df2['Статус брони'].unique()"
   ]
  },
  {
   "cell_type": "code",
   "execution_count": 246,
   "id": "fd11ddcd",
   "metadata": {},
   "outputs": [
    {
     "data": {
      "text/plain": [
       "0        0\n",
       "1        1\n",
       "2        0\n",
       "3        0\n",
       "4        0\n",
       "        ..\n",
       "26169    0\n",
       "26170    0\n",
       "26171    0\n",
       "26172    0\n",
       "26173    0\n",
       "Name: Способ оплаты, Length: 26174, dtype: int32"
      ]
     },
     "execution_count": 246,
     "metadata": {},
     "output_type": "execute_result"
    }
   ],
   "source": [
    "# df2['non_confirmed'] = \n",
    "df2['Способ оплаты'].str.contains('Отложенная электронная оплата').astype('int')"
   ]
  },
  {
   "cell_type": "code",
   "execution_count": 243,
   "id": "181dea27",
   "metadata": {},
   "outputs": [
    {
     "data": {
      "text/plain": [
       "Способ оплаты\n",
       "Отложенная электронная оплата: Банк Россия (банк. карта)             1790\n",
       "Банк. карта [Кешбэк. МИР]: Эквайринг TravelLine Pro (Банк. карта)       2\n",
       "Внешняя система оплаты                                                  1\n",
       "Name: count, dtype: int64"
      ]
     },
     "execution_count": 243,
     "metadata": {},
     "output_type": "execute_result"
    }
   ],
   "source": [
    "df2[df2['Статус брони'].isin(['Ожидается оплата', 'Неподтвержденные', 'Освоб. заранее'])]['Способ оплаты'].value_counts()"
   ]
  },
  {
   "cell_type": "code",
   "execution_count": 261,
   "id": "d990f791",
   "metadata": {},
   "outputs": [
    {
     "data": {
      "text/plain": [
       "Гостиница\n",
       "1    8483\n",
       "3    8006\n",
       "2    7368\n",
       "4    2317\n",
       "Name: count, dtype: int64"
      ]
     },
     "execution_count": 261,
     "metadata": {},
     "output_type": "execute_result"
    }
   ],
   "source": [
    "df['Гостиница'].value_counts()"
   ]
  }
 ],
 "metadata": {
  "kernelspec": {
   "display_name": "Python 3 (ipykernel)",
   "language": "python",
   "name": "python3"
  },
  "language_info": {
   "codemirror_mode": {
    "name": "ipython",
    "version": 3
   },
   "file_extension": ".py",
   "mimetype": "text/x-python",
   "name": "python",
   "nbconvert_exporter": "python",
   "pygments_lexer": "ipython3",
   "version": "3.11.5"
  },
  "toc": {
   "base_numbering": 1,
   "nav_menu": {},
   "number_sections": true,
   "sideBar": true,
   "skip_h1_title": false,
   "title_cell": "Table of Contents",
   "title_sidebar": "Contents",
   "toc_cell": false,
   "toc_position": {},
   "toc_section_display": true,
   "toc_window_display": false
  }
 },
 "nbformat": 4,
 "nbformat_minor": 5
}
